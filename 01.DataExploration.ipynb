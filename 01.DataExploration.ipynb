{
 "cells": [
  {
   "cell_type": "markdown",
   "metadata": {},
   "source": [
    "<hr style=\"color:green\" />\n",
    "<h1 style=\"color:green\">COSC2673 Assignment 2: Image Classification for Cancerous Cells</h1>\n",
    "<h2 style=\"color:green\">File 01: Data Exploration</h2>\n",
    "<hr style=\"color:green\" />\n",
    "\n",
    "<p>In this file, load the initial label files and do a basic examination of the contents</p>"
   ]
  },
  {
   "cell_type": "code",
   "execution_count": 3,
   "metadata": {},
   "outputs": [
    {
     "name": "stderr",
     "output_type": "stream",
     "text": [
      "c:\\Users\\nelso\\AppData\\Local\\Programs\\Python\\Python39\\lib\\site-packages\\numpy\\_distributor_init.py:30: UserWarning: loaded more than 1 DLL from .libs:\n",
      "c:\\Users\\nelso\\AppData\\Local\\Programs\\Python\\Python39\\lib\\site-packages\\numpy\\.libs\\libopenblas.EL2C6PLE4ZYW3ECEVIV3OXXGRN2NRFM2.gfortran-win_amd64.dll\n",
      "c:\\Users\\nelso\\AppData\\Local\\Programs\\Python\\Python39\\lib\\site-packages\\numpy\\.libs\\libopenblas.WCDJNK7YVMPZQ2ME2ZZHJJRJ3JIKNDB7.gfortran-win_amd64.dll\n",
      "  warnings.warn(\"loaded more than 1 DLL from .libs:\"\n"
     ]
    }
   ],
   "source": [
    "# Import the required libraries\n",
    "import pandas as pd\n",
    "import numpy as np\n",
    "import math\n",
    "import matplotlib.pyplot as plt\n",
    "\n",
    "import data_basic_utility as dbutil\n",
    "import graphing_utility as graphutil\n",
    "import statistics_utility as statsutil\n",
    "\n",
    "# run this to have a randomised seed every time. For reproducable results, set this to a constant\n",
    "random_seed = dbutil.get_random_seed()"
   ]
  },
  {
   "cell_type": "markdown",
   "metadata": {},
   "source": [
    "Load the files"
   ]
  },
  {
   "cell_type": "code",
   "execution_count": 4,
   "metadata": {},
   "outputs": [
    {
     "data": {
      "text/html": [
       "<div>\n",
       "<style scoped>\n",
       "    .dataframe tbody tr th:only-of-type {\n",
       "        vertical-align: middle;\n",
       "    }\n",
       "\n",
       "    .dataframe tbody tr th {\n",
       "        vertical-align: top;\n",
       "    }\n",
       "\n",
       "    .dataframe thead th {\n",
       "        text-align: right;\n",
       "    }\n",
       "</style>\n",
       "<table border=\"1\" class=\"dataframe\">\n",
       "  <thead>\n",
       "    <tr style=\"text-align: right;\">\n",
       "      <th></th>\n",
       "      <th>InstanceID</th>\n",
       "      <th>patientID</th>\n",
       "      <th>ImageName</th>\n",
       "      <th>cellTypeName</th>\n",
       "      <th>cellType</th>\n",
       "      <th>isCancerous</th>\n",
       "    </tr>\n",
       "  </thead>\n",
       "  <tbody>\n",
       "    <tr>\n",
       "      <th>0</th>\n",
       "      <td>22405</td>\n",
       "      <td>1</td>\n",
       "      <td>22405.png</td>\n",
       "      <td>fibroblast</td>\n",
       "      <td>0</td>\n",
       "      <td>0</td>\n",
       "    </tr>\n",
       "    <tr>\n",
       "      <th>1</th>\n",
       "      <td>22406</td>\n",
       "      <td>1</td>\n",
       "      <td>22406.png</td>\n",
       "      <td>fibroblast</td>\n",
       "      <td>0</td>\n",
       "      <td>0</td>\n",
       "    </tr>\n",
       "    <tr>\n",
       "      <th>2</th>\n",
       "      <td>22407</td>\n",
       "      <td>1</td>\n",
       "      <td>22407.png</td>\n",
       "      <td>fibroblast</td>\n",
       "      <td>0</td>\n",
       "      <td>0</td>\n",
       "    </tr>\n",
       "    <tr>\n",
       "      <th>3</th>\n",
       "      <td>22408</td>\n",
       "      <td>1</td>\n",
       "      <td>22408.png</td>\n",
       "      <td>fibroblast</td>\n",
       "      <td>0</td>\n",
       "      <td>0</td>\n",
       "    </tr>\n",
       "    <tr>\n",
       "      <th>4</th>\n",
       "      <td>22409</td>\n",
       "      <td>1</td>\n",
       "      <td>22409.png</td>\n",
       "      <td>fibroblast</td>\n",
       "      <td>0</td>\n",
       "      <td>0</td>\n",
       "    </tr>\n",
       "  </tbody>\n",
       "</table>\n",
       "</div>"
      ],
      "text/plain": [
       "   InstanceID  patientID  ImageName cellTypeName  cellType  isCancerous\n",
       "0       22405          1  22405.png   fibroblast         0            0\n",
       "1       22406          1  22406.png   fibroblast         0            0\n",
       "2       22407          1  22407.png   fibroblast         0            0\n",
       "3       22408          1  22408.png   fibroblast         0            0\n",
       "4       22409          1  22409.png   fibroblast         0            0"
      ]
     },
     "execution_count": 4,
     "metadata": {},
     "output_type": "execute_result"
    }
   ],
   "source": [
    "# Use these locations for Google Colab, where we need the Github version of the file\n",
    "# locationMain = \"https://raw.githubusercontent.com/s2105802-Nelson/COSC2673-A2-Group42/main/Image_classification_data/data_labels_mainData.csv?token=GHSAT0AAAAAACBUMPCH5CK2I562VIUK4US4ZCB3SFQ\"\n",
    "# locationExtra = \"https://raw.githubusercontent.com/s2105802-Nelson/COSC2673-A2-Group42/main/Image_classification_data/data_labels_extraData.csv?token=GHSAT0AAAAAACBUMPCHQZ5H2FWD4IEFU7WUZCB3SZA\"\n",
    "\n",
    "# Use these locations for Nelson's local version of the file\n",
    "locationMain = \"C:/Development/COSC2673A2/Image_classification_data/data_labels_mainData.csv\"\n",
    "locationExtra = \"C:/Development/COSC2673A2/Image_classification_data/data_labels_extraData.csv\"\n",
    "\n",
    "dfMain = pd.read_csv(locationMain)\n",
    "dfExtra = pd.read_csv(locationExtra)\n",
    "\n",
    "dfMain.head()"
   ]
  },
  {
   "cell_type": "code",
   "execution_count": 5,
   "metadata": {},
   "outputs": [
    {
     "data": {
      "text/html": [
       "<div>\n",
       "<style scoped>\n",
       "    .dataframe tbody tr th:only-of-type {\n",
       "        vertical-align: middle;\n",
       "    }\n",
       "\n",
       "    .dataframe tbody tr th {\n",
       "        vertical-align: top;\n",
       "    }\n",
       "\n",
       "    .dataframe thead th {\n",
       "        text-align: right;\n",
       "    }\n",
       "</style>\n",
       "<table border=\"1\" class=\"dataframe\">\n",
       "  <thead>\n",
       "    <tr style=\"text-align: right;\">\n",
       "      <th></th>\n",
       "      <th>InstanceID</th>\n",
       "      <th>patientID</th>\n",
       "      <th>ImageName</th>\n",
       "      <th>isCancerous</th>\n",
       "    </tr>\n",
       "  </thead>\n",
       "  <tbody>\n",
       "    <tr>\n",
       "      <th>0</th>\n",
       "      <td>12681</td>\n",
       "      <td>61</td>\n",
       "      <td>12681.png</td>\n",
       "      <td>0</td>\n",
       "    </tr>\n",
       "    <tr>\n",
       "      <th>1</th>\n",
       "      <td>12682</td>\n",
       "      <td>61</td>\n",
       "      <td>12682.png</td>\n",
       "      <td>0</td>\n",
       "    </tr>\n",
       "    <tr>\n",
       "      <th>2</th>\n",
       "      <td>12683</td>\n",
       "      <td>61</td>\n",
       "      <td>12683.png</td>\n",
       "      <td>0</td>\n",
       "    </tr>\n",
       "    <tr>\n",
       "      <th>3</th>\n",
       "      <td>12684</td>\n",
       "      <td>61</td>\n",
       "      <td>12684.png</td>\n",
       "      <td>0</td>\n",
       "    </tr>\n",
       "    <tr>\n",
       "      <th>4</th>\n",
       "      <td>12685</td>\n",
       "      <td>61</td>\n",
       "      <td>12685.png</td>\n",
       "      <td>0</td>\n",
       "    </tr>\n",
       "  </tbody>\n",
       "</table>\n",
       "</div>"
      ],
      "text/plain": [
       "   InstanceID  patientID  ImageName  isCancerous\n",
       "0       12681         61  12681.png            0\n",
       "1       12682         61  12682.png            0\n",
       "2       12683         61  12683.png            0\n",
       "3       12684         61  12684.png            0\n",
       "4       12685         61  12685.png            0"
      ]
     },
     "execution_count": 5,
     "metadata": {},
     "output_type": "execute_result"
    }
   ],
   "source": [
    "dfExtra.head()"
   ]
  },
  {
   "cell_type": "markdown",
   "metadata": {},
   "source": [
    "First, examine the Main dataset. Review of the data, structure, types and formats. If there are any basic errors, fix or clean."
   ]
  },
  {
   "cell_type": "code",
   "execution_count": 7,
   "metadata": {},
   "outputs": [
    {
     "name": "stdout",
     "output_type": "stream",
     "text": [
      "Dataframe Name: dfMain\n",
      "Dataframe Shape (rows / columns): (9896, 6)\n",
      "-----------------------------\n",
      "\n",
      "dataframe.info()\n",
      "--------------------\n",
      "<class 'pandas.core.frame.DataFrame'>\n",
      "RangeIndex: 9896 entries, 0 to 9895\n",
      "Data columns (total 6 columns):\n",
      " #   Column        Non-Null Count  Dtype \n",
      "---  ------        --------------  ----- \n",
      " 0   InstanceID    9896 non-null   int64 \n",
      " 1   patientID     9896 non-null   int64 \n",
      " 2   ImageName     9896 non-null   object\n",
      " 3   cellTypeName  9896 non-null   object\n",
      " 4   cellType      9896 non-null   int64 \n",
      " 5   isCancerous   9896 non-null   int64 \n",
      "dtypes: int64(4), object(2)\n",
      "memory usage: 464.0+ KB\n",
      "None\n",
      "-----------------------------\n",
      "\n",
      "dataframe.describe()\n",
      "--------------------\n",
      "         InstanceID    patientID     cellType  isCancerous\n",
      "count   9896.000000  9896.000000  9896.000000  9896.000000\n",
      "mean   10193.880154    29.762025     1.501516     0.412187\n",
      "std     6652.912660    17.486553     0.954867     0.492253\n",
      "min        1.000000     1.000000     0.000000     0.000000\n",
      "25%     4135.750000    14.000000     1.000000     0.000000\n",
      "50%     9279.500000    26.000000     2.000000     0.000000\n",
      "75%    16821.250000    47.000000     2.000000     1.000000\n",
      "max    22444.000000    60.000000     3.000000     1.000000\n",
      "-----------------------------\n",
      "\n",
      "Dataframe Column Unique Values\n",
      "--------------------\n",
      "Column 'InstanceID' - Unique value count: 9896\n",
      "Column 'patientID' - Unique value count: 60\n",
      "Column 'ImageName' - Unique value count: 9896\n",
      "Column 'cellTypeName' - Unique value count: 4\n",
      "   Column 'cellTypeName' values:\n",
      "   ['fibroblast' 'inflammatory' 'others' 'epithelial']\n",
      "Column 'cellType' - Unique value count: 4\n",
      "   Column 'cellType' values:\n",
      "   [0 1 3 2]\n",
      "Column 'isCancerous' - Unique value count: 2\n",
      "   Column 'isCancerous' values:\n",
      "   [0 1]\n",
      "-----------------------------\n",
      "\n"
     ]
    }
   ],
   "source": [
    "statsutil.df_basic_data_info(dfMain, \"dfMain\", largeTextWarning=False)"
   ]
  }
 ],
 "metadata": {
  "kernelspec": {
   "display_name": "Python 3.9.5 64-bit",
   "language": "python",
   "name": "python3"
  },
  "language_info": {
   "codemirror_mode": {
    "name": "ipython",
    "version": 3
   },
   "file_extension": ".py",
   "mimetype": "text/x-python",
   "name": "python",
   "nbconvert_exporter": "python",
   "pygments_lexer": "ipython3",
   "version": "3.9.5"
  },
  "orig_nbformat": 4,
  "vscode": {
   "interpreter": {
    "hash": "dcbc78149e46ccbab92a3f68a48c52feb0796c7e10dad8e3f1a2a5a780973376"
   }
  }
 },
 "nbformat": 4,
 "nbformat_minor": 2
}
