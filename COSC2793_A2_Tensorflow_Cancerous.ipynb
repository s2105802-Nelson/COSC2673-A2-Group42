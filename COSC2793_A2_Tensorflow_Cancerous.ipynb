{
  "cells": [
    {
      "cell_type": "markdown",
      "source": [
        "# 0. Importing Libraries & Dataset"
      ],
      "metadata": {
        "id": "Su63394vSvLN"
      },
      "id": "Su63394vSvLN"
    },
    {
      "cell_type": "code",
      "execution_count": 1,
      "id": "ee293d67",
      "metadata": {
        "colab": {
          "base_uri": "https://localhost:8080/"
        },
        "id": "ee293d67",
        "outputId": "cc16fa76-73e6-43f6-8710-4721ead49eb7",
        "scrolled": true
      },
      "outputs": [
        {
          "output_type": "stream",
          "name": "stdout",
          "text": [
            "Looking in indexes: https://pypi.org/simple, https://us-python.pkg.dev/colab-wheels/public/simple/\n",
            "Requirement already satisfied: tensorflow-addons in /usr/local/lib/python3.10/dist-packages (0.20.0)\n",
            "Requirement already satisfied: packaging in /usr/local/lib/python3.10/dist-packages (from tensorflow-addons) (23.1)\n",
            "Requirement already satisfied: typeguard<3.0.0,>=2.7 in /usr/local/lib/python3.10/dist-packages (from tensorflow-addons) (2.13.3)\n"
          ]
        },
        {
          "output_type": "stream",
          "name": "stderr",
          "text": [
            "/usr/local/lib/python3.10/dist-packages/tensorflow_addons/utils/tfa_eol_msg.py:23: UserWarning: \n",
            "\n",
            "TensorFlow Addons (TFA) has ended development and introduction of new features.\n",
            "TFA has entered a minimal maintenance and release mode until a planned end of life in May 2024.\n",
            "Please modify downstream libraries to take dependencies from other repositories in our TensorFlow community (e.g. Keras, Keras-CV, and Keras-NLP). \n",
            "\n",
            "For more information see: https://github.com/tensorflow/addons/issues/2807 \n",
            "\n",
            "  warnings.warn(\n"
          ]
        },
        {
          "output_type": "stream",
          "name": "stdout",
          "text": [
            "2.12.0\n"
          ]
        }
      ],
      "source": [
        "import pandas as pd\n",
        "import cv2\n",
        "import matplotlib.pyplot as plt\n",
        "\n",
        "import tensorflow as tf\n",
        "import pandas as pd\n",
        "import numpy as np\n",
        "\n",
        "!pip install tensorflow-addons\n",
        "import tensorflow_addons as tfa\n",
        "import os\n",
        "\n",
        "from sklearn.model_selection import train_test_split\n",
        "\n",
        "# Tensorflow version 2.12.0\n",
        "print(tf.__version__)"
      ]
    },
    {
      "cell_type": "code",
      "execution_count": 2,
      "id": "Jxhit5pCSQxs",
      "metadata": {
        "id": "Jxhit5pCSQxs",
        "colab": {
          "base_uri": "https://localhost:8080/"
        },
        "outputId": "deaaf39b-f694-486b-b531-e4ccc815ff45"
      },
      "outputs": [
        {
          "output_type": "stream",
          "name": "stdout",
          "text": [
            "Mounted at /content/drive\n"
          ]
        }
      ],
      "source": [
        "# Mount drive to notebook\n",
        "from google.colab import drive\n",
        "drive.mount('/content/drive')"
      ]
    },
    {
      "cell_type": "code",
      "execution_count": 3,
      "id": "vmk1hS9jrpNM",
      "metadata": {
        "id": "vmk1hS9jrpNM"
      },
      "outputs": [],
      "source": [
        "# Directory verification\n",
        "# !ls /content/drive/'My Drive'/RMIT/COSC2793_ML\n",
        "# !ls /content/drive/'MyDrive'/'COSC2673'"
      ]
    },
    {
      "cell_type": "code",
      "execution_count": 4,
      "id": "z7GQR-P7VQc8",
      "metadata": {
        "id": "z7GQR-P7VQc8"
      },
      "outputs": [],
      "source": [
        "locationMain = \"/content/drive/MyDrive/COSC2673/Image_classification_data/data_labels_mainData.csv\"\n",
        "locationExtra = \"/content/drive/MyDrive/COSC2673/Image_classification_data/data_labels_extraData.csv\"\n",
        "dfMain = pd.read_csv(locationMain)\n",
        "dfExtra = pd.read_csv(locationExtra)"
      ]
    },
    {
      "cell_type": "code",
      "execution_count": 5,
      "id": "U2NMhYQzDMlK",
      "metadata": {
        "id": "U2NMhYQzDMlK"
      },
      "outputs": [],
      "source": [
        "# Change the labels from integer to string type\n",
        "dfMain['isCancerous'] = dfMain['isCancerous'].astype(str)\n",
        "dfExtra['isCancerous'] = dfExtra['isCancerous'].astype(str)\n",
        "dfMain['cellType'] = dfMain['cellType'].astype(str)"
      ]
    },
    {
      "cell_type": "code",
      "execution_count": 6,
      "id": "c75e7c4e",
      "metadata": {
        "id": "c75e7c4e",
        "colab": {
          "base_uri": "https://localhost:8080/"
        },
        "outputId": "c5de08e8-e176-4350-91db-31886189cb10"
      },
      "outputs": [
        {
          "output_type": "execute_result",
          "data": {
            "text/plain": [
              "(4079, 6)"
            ]
          },
          "metadata": {},
          "execution_count": 6
        }
      ],
      "source": [
        "# Get datasets based on the class labels for cancer\n",
        "cancerous = dfMain[dfMain.isCancerous == '1']\n",
        "benign = dfMain[dfMain.isCancerous == '0']\n",
        "cancerous.shape"
      ]
    },
    {
      "cell_type": "code",
      "execution_count": 7,
      "id": "jOlyVmlmbMf9",
      "metadata": {
        "id": "jOlyVmlmbMf9"
      },
      "outputs": [],
      "source": [
        "# Load images from zip file\n",
        "! cp /content/drive/'MyDrive'/'COSC2673'/Image_classification_data/patch_images.zip .\n",
        "! unzip -q -o patch_images.zip\n",
        "# ! rm patch"
      ]
    },
    {
      "cell_type": "code",
      "source": [
        "# Function to do a 60/20/20 split\n",
        "def train_val_test_split(df, state):\n",
        "  # Get 20% out from dataset as test dataset\n",
        "  train_val_df,test_df = train_test_split(df,\n",
        "                                          test_size=0.2,\n",
        "                                          shuffle=True,\n",
        "                                          random_state=state)\n",
        "  # Get 25% from the remaining data after removing the test dataset\n",
        "  # To get 20% of validation data from overall dataset\n",
        "  train_df, val_df = train_test_split(train_val_df,\n",
        "                                      test_size=0.25,\n",
        "                                      shuffle = True,\n",
        "                                      random_state = state)\n",
        "  return train_df,val_df,test_df"
      ],
      "metadata": {
        "id": "TKY9pt-bTTkO"
      },
      "id": "TKY9pt-bTTkO",
      "execution_count": 8,
      "outputs": []
    },
    {
      "cell_type": "code",
      "execution_count": 9,
      "id": "pn_8jel-Vptv",
      "metadata": {
        "id": "pn_8jel-Vptv"
      },
      "outputs": [],
      "source": [
        "# Split dataset into training, testing and validation\n",
        "state = 1212125\n",
        "train_df, val_df, test_df = train_val_test_split(dfMain,state)\n",
        "# train_val_df,test_df = train_test_split(dfMain,test_size=0.2,shuffle=True,random_state=state)\n",
        "# train_df, val_df = train_test_split(train_val_df, test_size=0.25, shuffle = True, random_state = state)"
      ]
    },
    {
      "cell_type": "code",
      "execution_count": 10,
      "id": "NlTmhKdzbChS",
      "metadata": {
        "id": "NlTmhKdzbChS",
        "colab": {
          "base_uri": "https://localhost:8080/"
        },
        "outputId": "7c6f06e5-49cb-4fbe-d300-bf9bacca10cb"
      },
      "outputs": [
        {
          "output_type": "stream",
          "name": "stdout",
          "text": [
            "Shape of Training dataset: (5937, 6)\n",
            "Shape of Validation dataset: (1979, 6)\n",
            "Shape of testing dataset: (1980, 6)\n"
          ]
        }
      ],
      "source": [
        "# Verify the shape of dataset\n",
        "print(\"Shape of Training dataset:\",train_df.shape)\n",
        "print(\"Shape of Validation dataset:\", val_df.shape)\n",
        "print(\"Shape of testing dataset:\", test_df.shape)"
      ]
    },
    {
      "cell_type": "code",
      "execution_count": 11,
      "id": "izbkpGp0e_Uy",
      "metadata": {
        "id": "izbkpGp0e_Uy",
        "colab": {
          "base_uri": "https://localhost:8080/",
          "height": 430
        },
        "outputId": "a60ddf11-cf96-4ad1-ed9a-787175badbdd"
      },
      "outputs": [
        {
          "output_type": "display_data",
          "data": {
            "text/plain": [
              "<Figure size 640x480 with 2 Axes>"
            ],
            "image/png": "[encoded data removed]"
          },
          "metadata": {}
        }
      ],
      "source": [
        "for i,col in enumerate(dfMain[['isCancerous','cellType']]):\n",
        "  plt.subplot(1,2,i+1)\n",
        "  plt.hist((dfMain[col],train_df[col],val_df[col],test_df[col])\n",
        "  ,4,\n",
        "  label=('Full','Train','Validation','Test'))\n",
        "  plt.legend()"
      ]
    },
    {
      "cell_type": "markdown",
      "source": [
        "# Utilities"
      ],
      "metadata": {
        "id": "8d_d3QmjFTLs"
      },
      "id": "8d_d3QmjFTLs"
    },
    {
      "cell_type": "code",
      "execution_count": 12,
      "id": "d2714978",
      "metadata": {
        "id": "d2714978"
      },
      "outputs": [],
      "source": [
        "from tensorflow.keras.preprocessing.image import ImageDataGenerator\n",
        "# Function to create normalized image data generator\n",
        "def image_data_generator(df, xcolName, ycolName, batch_size):\n",
        "  # Rescale from 0-255 to 0-1\n",
        "    datagen = ImageDataGenerator(rescale=1./255, data_format='channels_last')\n",
        "    data_generator = datagen.flow_from_dataframe(\n",
        "        dataframe=df,\n",
        "        directory='patch_images/',\n",
        "        x_col=xcolName,\n",
        "        y_col=ycolName,\n",
        "        target_size=(27, 27),\n",
        "        batch_size=batch_size,\n",
        "        class_mode='categorical')\n",
        "    return data_generator"
      ]
    },
    {
      "cell_type": "code",
      "execution_count": 13,
      "id": "815619ba",
      "metadata": {
        "id": "815619ba"
      },
      "outputs": [],
      "source": [
        "ROOT = \"/content/drive/My Drive/RMIT/COSC2793_ML/\"\n",
        "\n",
        "# Function to save checkpoints when training a model into their respective directory\n",
        "# Save checkpoint every 10 epochs\n",
        "def get_callback(model_folder,save_epochs):\n",
        "    checkpoint_path = ROOT + model_folder + \"/checkpoints/ckp-{epoch:04d}.ckpt\"\n",
        "    # checkpoint_dir = os.path.dirname(checkpoint_path)\n",
        "    \n",
        "    ckp_callback = tf.keras.callbacks.ModelCheckpoint(\n",
        "    filepath = checkpoint_path,\n",
        "    verbose=1,\n",
        "    # Save weights only\n",
        "    save_weights_only=True,\n",
        "    # save_freq = save_epochs * batch_size,\n",
        "    save_freq = 'epoch',\n",
        "    period = save_epochs\n",
        "    )\n",
        "    return ckp_callback"
      ]
    },
    {
      "cell_type": "code",
      "execution_count": 14,
      "id": "113d2424",
      "metadata": {
        "id": "113d2424"
      },
      "outputs": [],
      "source": [
        "# Function to train model\n",
        "def train_model(model, modelName, train_gen, val_gen):\n",
        "  # Get directory to saving the checkpoints\n",
        "  checkpoint_path = ROOT + modelName + \"/checkpoints/ckp-{epoch:04d}.ckpt\"\n",
        "  model.save_weights(checkpoint_path.format(epoch=0))\n",
        "\n",
        "  # Fit the model to the train and validation data generator\n",
        "  history = model.fit_generator(train_gen,\n",
        "                                validation_data = val_gen,\n",
        "                                epochs=150,\n",
        "                                callbacks = [get_callback(modelName,10)],\n",
        "                                verbose=0)\n",
        "  # Save model\n",
        "  model.save(ROOT+modelName)\n",
        "  print(\"Model generated at \", ROOT+modelName)\n",
        "  return history"
      ]
    },
    {
      "cell_type": "code",
      "execution_count": 15,
      "id": "a4defe07",
      "metadata": {
        "id": "a4defe07"
      },
      "outputs": [],
      "source": [
        "# Function to evaluate model that has been trained and saved\n",
        "def savedModel_evaluate(model, train_gen, test_gen):\n",
        "    print(\"Model's performance on Trainining Dataset:\")\n",
        "    model.evaluate(train_gen)\n",
        "    print(\"\\nModel's performance on Testing Dataset:\")\n",
        "    model.evaluate(test_gen)"
      ]
    },
    {
      "cell_type": "code",
      "source": [
        "# Load saved model in directory and get evaluate it's performance\n",
        "def load_savedModel(modelName, train_gen, val_gen):\n",
        "  model = tf.keras.models.load_model(ROOT+modelName)\n",
        "  # if (model):\n",
        "  print('Existing model found')\n",
        "  savedModel_evaluate(model,train_gen,val_gen)\n",
        "  return model"
      ],
      "metadata": {
        "id": "CBshN8X7AB7g"
      },
      "id": "CBshN8X7AB7g",
      "execution_count": 16,
      "outputs": []
    },
    {
      "cell_type": "code",
      "execution_count": 17,
      "id": "a3bc1c3f",
      "metadata": {
        "id": "a3bc1c3f"
      },
      "outputs": [],
      "source": [
        "# Function to print the loss and score of the model over the epochs\n",
        "def model_stats(history, loss, metric):\n",
        "    plt.figure(figsize=(10,5))\n",
        "    plt.subplot(1,2,1)\n",
        "    plt.plot(history.history[loss], 'r--')\n",
        "    plt.plot(history.history['val_'+loss], 'b--')\n",
        "    plt.xlabel(\"epochs\")\n",
        "    plt.ylabel(\"Loss\")\n",
        "    plt.legend(['train', 'val'], loc='upper left')\n",
        "\n",
        "    plt.subplot(1,2,2)\n",
        "    plt.plot(history.history[metric], 'r--')\n",
        "    plt.plot(history.history['val_'+metric], 'b--')\n",
        "    plt.xlabel(\"epochs\")\n",
        "    plt.ylabel(\"Accuracy\")\n",
        "    plt.legend(['train', 'val'], loc='upper left')"
      ]
    },
    {
      "cell_type": "code",
      "source": [],
      "metadata": {
        "id": "EcSkdu_0FSyZ"
      },
      "id": "EcSkdu_0FSyZ",
      "execution_count": 17,
      "outputs": []
    },
    {
      "cell_type": "markdown",
      "id": "9UmuNI4f_N9G",
      "metadata": {
        "id": "9UmuNI4f_N9G"
      },
      "source": [
        "# Model 1. Basic Multilayer Perceptron for Binary Classification (isCancerous)\n",
        "\n",
        "**Data Preprocessing**\n",
        "1. Normalized image data\n",
        "\n",
        "**Model**\n",
        "1.   1 Hidden Layer | 256 Nodes | Sigmoid Activation Function\n",
        "2. SGD Optimizer\n",
        "3. Loss: Binary Cross Entropy\n",
        "4. Metrics: F1 Score, Precision, Recall\n",
        "\n",
        "\n"
      ]
    },
    {
      "cell_type": "code",
      "execution_count": 18,
      "id": "8Xxq1P9cgH2f",
      "metadata": {
        "id": "8Xxq1P9cgH2f"
      },
      "outputs": [],
      "source": [
        "# 27 x 27 with 3 channels\n",
        "INPUT_DIM = (27,27,3)\n",
        "# Number of nodes in the hidden layer\n",
        "HIDDEN_LAYER_DIM = 256\n",
        "# Number of class to be predicted\n",
        "OUTPUT_CLASSES = 2"
      ]
    },
    {
      "cell_type": "code",
      "execution_count": 19,
      "id": "L_--WWRJiJSB",
      "metadata": {
        "id": "L_--WWRJiJSB"
      },
      "outputs": [],
      "source": [
        "# Using Sequential API to build the model as shown in the tutorial\n",
        "# import tensorflow as tf\n",
        "\n",
        "model = tf.keras.Sequential([\n",
        "    # Layer 1: Transform the image into correct format\n",
        "    tf.keras.layers.Flatten(input_shape=INPUT_DIM),\n",
        "    # Layer 2: 256 nodes\n",
        "    tf.keras.layers.Dense(HIDDEN_LAYER_DIM, activation='sigmoid'),\n",
        "    # Layer 3: Work together with Layer 2 to produce 2 outputs\n",
        "    # To determine the class of the image\n",
        "    tf.keras.layers.Dense(OUTPUT_CLASSES)\n",
        "])"
      ]
    },
    {
      "cell_type": "code",
      "execution_count": 20,
      "id": "03a9f0a3",
      "metadata": {
        "id": "03a9f0a3",
        "colab": {
          "base_uri": "https://localhost:8080/",
          "height": 700
        },
        "outputId": "131a2c8e-25c0-4666-d263-e9632af7e25e"
      },
      "outputs": [
        {
          "output_type": "stream",
          "name": "stdout",
          "text": [
            "Model: \"sequential\"\n",
            "_________________________________________________________________\n",
            " Layer (type)                Output Shape              Param #   \n",
            "=================================================================\n",
            " flatten (Flatten)           (None, 2187)              0         \n",
            "                                                                 \n",
            " dense (Dense)               (None, 256)               560128    \n",
            "                                                                 \n",
            " dense_1 (Dense)             (None, 2)                 514       \n",
            "                                                                 \n",
            "=================================================================\n",
            "Total params: 560,642\n",
            "Trainable params: 560,642\n",
            "Non-trainable params: 0\n",
            "_________________________________________________________________\n",
            "None\n"
          ]
        },
        {
          "output_type": "execute_result",
          "data": {
            "image/png": "[encoded data removed]",
            "text/plain": [
              "<IPython.core.display.Image object>"
            ]
          },
          "metadata": {},
          "execution_count": 20
        }
      ],
      "source": [
        "# Get information about the model structure\n",
        "print(model.summary())\n",
        "tf.keras.utils.plot_model(model, show_shapes=True)"
      ]
    },
    {
      "cell_type": "code",
      "execution_count": 21,
      "id": "4ilm9xsQiOym",
      "metadata": {
        "id": "4ilm9xsQiOym",
        "scrolled": false
      },
      "outputs": [],
      "source": [
        "# Compile the model\n",
        "# SGD as optimizer\n",
        "# Binary Crossentropy as loss\n",
        "# Precision, Recall, F1 Score as metrics\n",
        "model.compile(optimizer='SGD',\n",
        "              loss=tf.keras.losses.BinaryCrossentropy(from_logits=True),\n",
        "              metrics=[tf.keras.metrics.Precision(),\n",
        "                       tf.keras.metrics.Recall(),\n",
        "                       tfa.metrics.F1Score(num_classes=OUTPUT_CLASSES)])"
      ]
    },
    {
      "cell_type": "code",
      "execution_count": 22,
      "id": "345c6b29",
      "metadata": {
        "id": "345c6b29",
        "colab": {
          "base_uri": "https://localhost:8080/"
        },
        "outputId": "5fb99a78-0ded-469f-bbc9-f39f516dbd25"
      },
      "outputs": [
        {
          "output_type": "stream",
          "name": "stdout",
          "text": [
            "Found 5937 validated image filenames belonging to 2 classes.\n",
            "Found 1979 validated image filenames belonging to 2 classes.\n",
            "Found 1980 validated image filenames belonging to 2 classes.\n",
            "Found 10384 validated image filenames belonging to 2 classes.\n"
          ]
        }
      ],
      "source": [
        "# Generate train, validation and test data generator with batch size of 32\n",
        "batch_size = 32\n",
        "train_generator = image_data_generator(train_df, \"ImageName\",\"isCancerous\",batch_size)\n",
        "validation_generator = image_data_generator(val_df, \"ImageName\",\"isCancerous\",batch_size)\n",
        "test_generator = image_data_generator(test_df, \"ImageName\",\"isCancerous\",batch_size)\n",
        "test_generator_extra = image_data_generator(dfExtra, \"ImageName\",\"isCancerous\",batch_size)"
      ]
    },
    {
      "cell_type": "code",
      "source": [
        "# Combine 2 datasets for training, remove columns relating to cell types\n",
        "dfMain_nocell = dfMain.loc[:, ~dfMain.columns.isin(['cellType','cellTypeName'])]\n",
        "dfAll = pd.concat([dfMain_nocell, dfExtra])\n",
        "dfAll['isCancerous'] = dfAll['isCancerous'].astype(str)\n",
        "dfAll"
      ],
      "metadata": {
        "id": "j-YRFirpHdbi",
        "colab": {
          "base_uri": "https://localhost:8080/",
          "height": 423
        },
        "outputId": "c2fef541-94a9-421c-b401-e216566b7d09"
      },
      "id": "j-YRFirpHdbi",
      "execution_count": 23,
      "outputs": [
        {
          "output_type": "execute_result",
          "data": {
            "text/plain": [
              "       InstanceID  patientID  ImageName isCancerous\n",
              "0           22405          1  22405.png           0\n",
              "1           22406          1  22406.png           0\n",
              "2           22407          1  22407.png           0\n",
              "3           22408          1  22408.png           0\n",
              "4           22409          1  22409.png           0\n",
              "...           ...        ...        ...         ...\n",
              "10379       20028         99  20028.png           0\n",
              "10380       20029         99  20029.png           0\n",
              "10381       20030         99  20030.png           0\n",
              "10382       20031         99  20031.png           0\n",
              "10383       20032         99  20032.png           0\n",
              "\n",
              "[20280 rows x 4 columns]"
            ],
            "text/html": [
              "\n",
              "  <div id=\"df-0484bc37-7077-47e5-a481-7afb73172699\">\n",
              "    <div class=\"colab-df-container\">\n",
              "      <div>\n",
              "<style scoped>\n",
              "    .dataframe tbody tr th:only-of-type {\n",
              "        vertical-align: middle;\n",
              "    }\n",
              "\n",
              "    .dataframe tbody tr th {\n",
              "        vertical-align: top;\n",
              "    }\n",
              "\n",
              "    .dataframe thead th {\n",
              "        text-align: right;\n",
              "    }\n",
              "</style>\n",
              "<table border=\"1\" class=\"dataframe\">\n",
              "  <thead>\n",
              "    <tr style=\"text-align: right;\">\n",
              "      <th></th>\n",
              "      <th>InstanceID</th>\n",
              "      <th>patientID</th>\n",
              "      <th>ImageName</th>\n",
              "      <th>isCancerous</th>\n",
              "    </tr>\n",
              "  </thead>\n",
              "  <tbody>\n",
              "    <tr>\n",
              "      <th>0</th>\n",
              "      <td>22405</td>\n",
              "      <td>1</td>\n",
              "      <td>22405.png</td>\n",
              "      <td>0</td>\n",
              "    </tr>\n",
              "    <tr>\n",
              "      <th>1</th>\n",
              "      <td>22406</td>\n",
              "      <td>1</td>\n",
              "      <td>22406.png</td>\n",
              "      <td>0</td>\n",
              "    </tr>\n",
              "    <tr>\n",
              "      <th>2</th>\n",
              "      <td>22407</td>\n",
              "      <td>1</td>\n",
              "      <td>22407.png</td>\n",
              "      <td>0</td>\n",
              "    </tr>\n",
              "    <tr>\n",
              "      <th>3</th>\n",
              "      <td>22408</td>\n",
              "      <td>1</td>\n",
              "      <td>22408.png</td>\n",
              "      <td>0</td>\n",
              "    </tr>\n",
              "    <tr>\n",
              "      <th>4</th>\n",
              "      <td>22409</td>\n",
              "      <td>1</td>\n",
              "      <td>22409.png</td>\n",
              "      <td>0</td>\n",
              "    </tr>\n",
              "    <tr>\n",
              "      <th>...</th>\n",
              "      <td>...</td>\n",
              "      <td>...</td>\n",
              "      <td>...</td>\n",
              "      <td>...</td>\n",
              "    </tr>\n",
              "    <tr>\n",
              "      <th>10379</th>\n",
              "      <td>20028</td>\n",
              "      <td>99</td>\n",
              "      <td>20028.png</td>\n",
              "      <td>0</td>\n",
              "    </tr>\n",
              "    <tr>\n",
              "      <th>10380</th>\n",
              "      <td>20029</td>\n",
              "      <td>99</td>\n",
              "      <td>20029.png</td>\n",
              "      <td>0</td>\n",
              "    </tr>\n",
              "    <tr>\n",
              "      <th>10381</th>\n",
              "      <td>20030</td>\n",
              "      <td>99</td>\n",
              "      <td>20030.png</td>\n",
              "      <td>0</td>\n",
              "    </tr>\n",
              "    <tr>\n",
              "      <th>10382</th>\n",
              "      <td>20031</td>\n",
              "      <td>99</td>\n",
              "      <td>20031.png</td>\n",
              "      <td>0</td>\n",
              "    </tr>\n",
              "    <tr>\n",
              "      <th>10383</th>\n",
              "      <td>20032</td>\n",
              "      <td>99</td>\n",
              "      <td>20032.png</td>\n",
              "      <td>0</td>\n",
              "    </tr>\n",
              "  </tbody>\n",
              "</table>\n",
              "<p>20280 rows × 4 columns</p>\n",
              "</div>\n",
              "      <button class=\"colab-df-convert\" onclick=\"convertToInteractive('df-0484bc37-7077-47e5-a481-7afb73172699')\"\n",
              "              title=\"Convert this dataframe to an interactive table.\"\n",
              "              style=\"display:none;\">\n",
              "        \n",
              "  <svg xmlns=\"http://www.w3.org/2000/svg\" height=\"24px\"viewBox=\"0 0 24 24\"\n",
              "       width=\"24px\">\n",
              "    <path d=\"M0 0h24v24H0V0z\" fill=\"none\"/>\n",
              "    <path d=\"M18.56 5.44l.94 2.06.94-2.06 2.06-.94-2.06-.94-.94-2.06-.94 2.06-2.06.94zm-11 1L8.5 8.5l.94-2.06 2.06-.94-2.06-.94L8.5 2.5l-.94 2.06-2.06.94zm10 10l.94 2.06.94-2.06 2.06-.94-2.06-.94-.94-2.06-.94 2.06-2.06.94z\"/><path d=\"M17.41 7.96l-1.37-1.37c-.4-.4-.92-.59-1.43-.59-.52 0-1.04.2-1.43.59L10.3 9.45l-7.72 7.72c-.78.78-.78 2.05 0 2.83L4 21.41c.39.39.9.59 1.41.59.51 0 1.02-.2 1.41-.59l7.78-7.78 2.81-2.81c.8-.78.8-2.07 0-2.86zM5.41 20L4 18.59l7.72-7.72 1.47 1.35L5.41 20z\"/>\n",
              "  </svg>\n",
              "      </button>\n",
              "      \n",
              "  <style>\n",
              "    .colab-df-container {\n",
              "      display:flex;\n",
              "      flex-wrap:wrap;\n",
              "      gap: 12px;\n",
              "    }\n",
              "\n",
              "    .colab-df-convert {\n",
              "      background-color: #E8F0FE;\n",
              "      border: none;\n",
              "      border-radius: 50%;\n",
              "      cursor: pointer;\n",
              "      display: none;\n",
              "      fill: #1967D2;\n",
              "      height: 32px;\n",
              "      padding: 0 0 0 0;\n",
              "      width: 32px;\n",
              "    }\n",
              "\n",
              "    .colab-df-convert:hover {\n",
              "      background-color: #E2EBFA;\n",
              "      box-shadow: 0px 1px 2px rgba(60, 64, 67, 0.3), 0px 1px 3px 1px rgba(60, 64, 67, 0.15);\n",
              "      fill: #174EA6;\n",
              "    }\n",
              "\n",
              "    [theme=dark] .colab-df-convert {\n",
              "      background-color: #3B4455;\n",
              "      fill: #D2E3FC;\n",
              "    }\n",
              "\n",
              "    [theme=dark] .colab-df-convert:hover {\n",
              "      background-color: #434B5C;\n",
              "      box-shadow: 0px 1px 3px 1px rgba(0, 0, 0, 0.15);\n",
              "      filter: drop-shadow(0px 1px 2px rgba(0, 0, 0, 0.3));\n",
              "      fill: #FFFFFF;\n",
              "    }\n",
              "  </style>\n",
              "\n",
              "      <script>\n",
              "        const buttonEl =\n",
              "          document.querySelector('#df-0484bc37-7077-47e5-a481-7afb73172699 button.colab-df-convert');\n",
              "        buttonEl.style.display =\n",
              "          google.colab.kernel.accessAllowed ? 'block' : 'none';\n",
              "\n",
              "        async function convertToInteractive(key) {\n",
              "          const element = document.querySelector('#df-0484bc37-7077-47e5-a481-7afb73172699');\n",
              "          const dataTable =\n",
              "            await google.colab.kernel.invokeFunction('convertToInteractive',\n",
              "                                                     [key], {});\n",
              "          if (!dataTable) return;\n",
              "\n",
              "          const docLinkHtml = 'Like what you see? Visit the ' +\n",
              "            '<a target=\"_blank\" href=https://colab.research.google.com/notebooks/data_table.ipynb>data table notebook</a>'\n",
              "            + ' to learn more about interactive tables.';\n",
              "          element.innerHTML = '';\n",
              "          dataTable['output_type'] = 'display_data';\n",
              "          await google.colab.output.renderOutput(dataTable, element);\n",
              "          const docLink = document.createElement('div');\n",
              "          docLink.innerHTML = docLinkHtml;\n",
              "          element.appendChild(docLink);\n",
              "        }\n",
              "      </script>\n",
              "    </div>\n",
              "  </div>\n",
              "  "
            ]
          },
          "metadata": {},
          "execution_count": 23
        }
      ]
    },
    {
      "cell_type": "code",
      "source": [
        "# Check if there are any duplicated data\n",
        "dfAll.duplicated().any()"
      ],
      "metadata": {
        "id": "3ndHmrEeI_Ra",
        "colab": {
          "base_uri": "https://localhost:8080/"
        },
        "outputId": "7ec9057b-cfc4-4abc-989d-6c978a2cb298"
      },
      "id": "3ndHmrEeI_Ra",
      "execution_count": 24,
      "outputs": [
        {
          "output_type": "execute_result",
          "data": {
            "text/plain": [
              "False"
            ]
          },
          "metadata": {},
          "execution_count": 24
        }
      ]
    },
    {
      "cell_type": "code",
      "source": [
        "state = 1212125\n",
        "train_dfAll, val_dfAll, test_dfAll = train_val_test_split(dfAll,state)\n",
        "# train_val_dfAll,test_dfAll = train_test_split(dfAll,test_size=0.2,shuffle=True,random_state=state)\n",
        "\n",
        "# train_dfAll, val_dfAll = train_test_split(train_val_dfAll, test_size=0.25, shuffle = True, random_state = state)"
      ],
      "metadata": {
        "id": "8D__icieJyEV"
      },
      "id": "8D__icieJyEV",
      "execution_count": 25,
      "outputs": []
    },
    {
      "cell_type": "code",
      "source": [
        "# Modify Train image generator to perform image data augmentation\n",
        "batch_size = 32\n",
        "datagen = ImageDataGenerator(rescale=1./255,\n",
        "                             rotation_range = 15,\n",
        "                             width_shift_range = 0.2,\n",
        "                             height_shift_range = 0.2,\n",
        "                             data_format='channels_last')\n",
        "\n",
        "train_generatorAll = datagen.flow_from_dataframe(\n",
        "    dataframe=train_dfAll,\n",
        "    directory='patch_images/',\n",
        "    x_col='ImageName',\n",
        "    y_col='isCancerous',\n",
        "    target_size=(27, 27),\n",
        "    batch_size=batch_size,\n",
        "    class_mode='categorical')\n",
        "\n",
        "# Use default image data generator for validation and test set\n",
        "val_generatorAll = image_data_generator(val_dfAll,'ImageName','isCancerous',batch_size)\n",
        "test_generatorAll = image_data_generator(test_dfAll,'ImageName','isCancerous',batch_size)"
      ],
      "metadata": {
        "id": "ptyaOMEHJI2s",
        "colab": {
          "base_uri": "https://localhost:8080/"
        },
        "outputId": "fb70ee70-f53b-4218-849a-f3b84eee5ab1"
      },
      "id": "ptyaOMEHJI2s",
      "execution_count": 26,
      "outputs": [
        {
          "output_type": "stream",
          "name": "stdout",
          "text": [
            "Found 12168 validated image filenames belonging to 2 classes.\n",
            "Found 4056 validated image filenames belonging to 2 classes.\n",
            "Found 4056 validated image filenames belonging to 2 classes.\n"
          ]
        }
      ]
    },
    {
      "cell_type": "code",
      "execution_count": 27,
      "id": "Q1zH_Ki8h3b5",
      "metadata": {
        "id": "Q1zH_Ki8h3b5"
      },
      "outputs": [],
      "source": [
        "# https://vijayabhaskar96.medium.com/tutorial-on-keras-imagedatagenerator-with-flow-from-dataframe-8bd5776e45c1"
      ]
    },
    {
      "cell_type": "code",
      "execution_count": 28,
      "id": "56a110ba",
      "metadata": {
        "id": "56a110ba"
      },
      "outputs": [],
      "source": [
        "# Train basic model\n",
        "training_model = False\n",
        "try:\n",
        "  model_gs2l = tf.keras.models.load_model(ROOT+'gscale_2layer')\n",
        "except:\n",
        "  training_model = True\n",
        "  history = train_model(model,\"gscale_2layer\",train_generator,validation_generator)"
      ]
    },
    {
      "cell_type": "code",
      "execution_count": 29,
      "id": "EGFZdkgpB-ol",
      "metadata": {
        "id": "EGFZdkgpB-ol"
      },
      "outputs": [],
      "source": [
        "if training_model:\n",
        "  model_stats(history,'loss','precision')"
      ]
    },
    {
      "cell_type": "code",
      "execution_count": 30,
      "id": "M3Rwp4zov-SS",
      "metadata": {
        "id": "M3Rwp4zov-SS"
      },
      "outputs": [],
      "source": [
        "# model_gs2l_dir = 'gscale_2layer/'\n",
        "# model_gs2l_weights = tf.train.latest_checkpoint(root_folder+model_gs2l_dir)\n",
        "# if not training_model:\n",
        "#   model_gs2l = tf.keras.models.load_model(ROOT+'gscale_2layer')"
      ]
    },
    {
      "cell_type": "code",
      "execution_count": 31,
      "id": "837eedac",
      "metadata": {
        "id": "837eedac",
        "colab": {
          "base_uri": "https://localhost:8080/"
        },
        "outputId": "c5c82df5-fdf6-485b-9cf6-d7c7d3ae741b"
      },
      "outputs": [
        {
          "output_type": "stream",
          "name": "stdout",
          "text": [
            "Existing model found\n",
            "Model's performance on Trainining Dataset:\n",
            "186/186 [==============================] - 6s 26ms/step - loss: 0.2735 - precision: 0.9172 - recall: 0.8381 - f1_score: 0.8817\n",
            "\n",
            "Model's performance on Testing Dataset:\n",
            "62/62 [==============================] - 3s 46ms/step - loss: 0.3145 - precision: 0.8967 - recall: 0.8197 - f1_score: 0.8636\n"
          ]
        }
      ],
      "source": [
        "# if not training_model:\n",
        "model = load_savedModel('gscale_2layer',train_generator,test_generator)"
      ]
    },
    {
      "cell_type": "code",
      "source": [
        "load_savedModel('gscale_2layer',test_generator,test_generatorAll)"
      ],
      "metadata": {
        "id": "vPHv6h4-Ze2t",
        "colab": {
          "base_uri": "https://localhost:8080/"
        },
        "outputId": "387b285d-10f4-45e3-8e7b-a330ba917b95"
      },
      "id": "vPHv6h4-Ze2t",
      "execution_count": 32,
      "outputs": [
        {
          "output_type": "stream",
          "name": "stdout",
          "text": [
            "Existing model found\n",
            "Model's performance on Trainining Dataset:\n",
            "62/62 [==============================] - 3s 32ms/step - loss: 0.3145 - precision: 0.8967 - recall: 0.8197 - f1_score: 0.8636\n",
            "\n",
            "Model's performance on Testing Dataset:\n",
            "127/127 [==============================] - 4s 31ms/step - loss: 0.5080 - precision: 0.8071 - recall: 0.7271 - f1_score: 0.7766\n"
          ]
        },
        {
          "output_type": "execute_result",
          "data": {
            "text/plain": [
              "<keras.engine.sequential.Sequential at 0x7fe55c357310>"
            ]
          },
          "metadata": {},
          "execution_count": 32
        }
      ]
    },
    {
      "cell_type": "markdown",
      "source": [
        "Being being very basic, the model did really well with nearly 90% training f1 score and just a 2% drop when classifying new data. However, when predicting on the joined dataset, there is a significant deccrease across all metrics! This signifies that overfitting may have occured. Thus, different techniques that helps with overfitting will be explored."
      ],
      "metadata": {
        "id": "IM3P9Ap0gdzc"
      },
      "id": "IM3P9Ap0gdzc"
    },
    {
      "cell_type": "markdown",
      "source": [
        "# Model 2: Combining 2 datasets & using Data Augmentation\n",
        "**Data Preprocessing**\n",
        "1. Normalized image data\n",
        "2. Image Data Augmentation\n",
        "\n",
        "**Model**\n",
        "1.   1 Hidden Layer | 256 Nodes | Sigmoid Activation Function\n",
        "2. SGD Optimizer\n",
        "3. Loss: Binary Cross Entropy\n",
        "4. Metrics: F1 Score, Precision, Recall\n"
      ],
      "metadata": {
        "id": "lroi6RLrHeyu"
      },
      "id": "lroi6RLrHeyu"
    },
    {
      "cell_type": "code",
      "source": [
        "model_aug = tf.keras.Sequential([\n",
        "    # Layer 1: Transform the image into correct format\n",
        "    tf.keras.layers.Flatten(input_shape=INPUT_DIM),\n",
        "    # Layer 2: 256 nodes\n",
        "    tf.keras.layers.Dense(HIDDEN_LAYER_DIM, activation='sigmoid'),\n",
        "    # Layer 3: Work together with Layer 2 to produce 2 outputs\n",
        "    # To determine the class of the image\n",
        "    tf.keras.layers.Dense(OUTPUT_CLASSES)\n",
        "])\n",
        "\n",
        "model_aug.compile(optimizer='SGD',\n",
        "              loss=tf.keras.losses.BinaryCrossentropy(from_logits=True),\n",
        "              metrics=[tf.keras.metrics.Precision(),\n",
        "                       tf.keras.metrics.Recall(),\n",
        "                       tfa.metrics.F1Score(num_classes=OUTPUT_CLASSES)])"
      ],
      "metadata": {
        "id": "bqyATIrSKKMT"
      },
      "id": "bqyATIrSKKMT",
      "execution_count": 33,
      "outputs": []
    },
    {
      "cell_type": "code",
      "source": [
        "training_model = False\n",
        "try:\n",
        "  model_aug = load_savedModel('augmented',train_generatorAll,test_generatorAll)\n",
        "except:\n",
        "  training_model = True\n",
        "  history_aug = train_model(model_aug,\"augmented\",train_generatorAll,val_generatorAll)"
      ],
      "metadata": {
        "id": "yP4FTkxpKLAL",
        "colab": {
          "base_uri": "https://localhost:8080/"
        },
        "outputId": "a87e1414-c0f5-419d-eac9-858135ef3af4"
      },
      "id": "yP4FTkxpKLAL",
      "execution_count": 34,
      "outputs": [
        {
          "output_type": "stream",
          "name": "stdout",
          "text": [
            "Existing model found\n",
            "Model's performance on Trainining Dataset:\n",
            "381/381 [==============================] - 15s 38ms/step - loss: 0.4656 - precision_2: 0.8222 - recall_2: 0.6480 - f1_score: 0.7355\n",
            "\n",
            "Model's performance on Testing Dataset:\n",
            "127/127 [==============================] - 2s 15ms/step - loss: 0.4327 - precision_2: 0.8460 - recall_2: 0.6785 - f1_score: 0.7516\n"
          ]
        }
      ]
    },
    {
      "cell_type": "code",
      "source": [
        "# print(history.history.keys())\n",
        "if training_model:\n",
        "  model_stats(history_aug,'loss','precision_2')"
      ],
      "metadata": {
        "id": "sUOfTyCeKLXQ"
      },
      "id": "sUOfTyCeKLXQ",
      "execution_count": 35,
      "outputs": []
    },
    {
      "cell_type": "code",
      "source": [
        "if not training_model:\n",
        "  model_aug = load_savedModel('augmented',train_generatorAll,test_generatorAll)"
      ],
      "metadata": {
        "id": "W-5kkgQEKLqx",
        "colab": {
          "base_uri": "https://localhost:8080/"
        },
        "outputId": "08a978a0-80d6-4daf-d3b0-b1784d0f998e"
      },
      "id": "W-5kkgQEKLqx",
      "execution_count": 36,
      "outputs": [
        {
          "output_type": "stream",
          "name": "stdout",
          "text": [
            "Existing model found\n",
            "Model's performance on Trainining Dataset:\n",
            "381/381 [==============================] - 15s 38ms/step - loss: 0.4651 - precision_2: 0.8262 - recall_2: 0.6466 - f1_score: 0.7357\n",
            "\n",
            "Model's performance on Testing Dataset:\n",
            "127/127 [==============================] - 3s 22ms/step - loss: 0.4327 - precision_2: 0.8460 - recall_2: 0.6785 - f1_score: 0.7516\n"
          ]
        }
      ]
    },
    {
      "cell_type": "markdown",
      "source": [
        "It is surprising to see how much the performance of the model dropped when using image data augmentation. However, it is a fact that the dataset is imbalanced. Thus, data augmentation will be kept and different other features will be experimented"
      ],
      "metadata": {
        "id": "uhDaurJyfd-q"
      },
      "id": "uhDaurJyfd-q"
    },
    {
      "cell_type": "markdown",
      "source": [
        "# Model 2.5 Data Augmentation + GrayScale"
      ],
      "metadata": {
        "id": "6MaGUfKGcK20"
      },
      "id": "6MaGUfKGcK20"
    },
    {
      "cell_type": "code",
      "source": [
        "def to_grayscale(image):\n",
        "    image = tf.image.rgb_to_grayscale(image)\n",
        "    return image"
      ],
      "metadata": {
        "id": "eZEj2qZ3cxsX"
      },
      "id": "eZEj2qZ3cxsX",
      "execution_count": 37,
      "outputs": []
    },
    {
      "cell_type": "code",
      "source": [
        "# Modify Train image generator to perform image data augmentation\n",
        "batch_size = 32\n",
        "datagen = ImageDataGenerator(rescale=1./255,\n",
        "                             preprocessing_function = to_grayscale,\n",
        "                             data_format='channels_last')\n",
        "\n",
        "train_generatorBL = datagen.flow_from_dataframe(\n",
        "    dataframe=train_dfAll,\n",
        "    directory='patch_images/',\n",
        "    x_col='ImageName',\n",
        "    y_col='isCancerous',\n",
        "    target_size=(27, 27),\n",
        "    batch_size=batch_size,\n",
        "    class_mode='categorical')\n",
        "\n",
        "# Use default image data generator for validation and test set\n",
        "# val_generatorBL = image_data_generator(val_dfAll,'ImageName','isCancerous',batch_size)\n",
        "# test_generatorBL = image_data_generator(test_dfAll,'ImageName','isCancerous',batch_size)"
      ],
      "metadata": {
        "id": "DDWbNWAdcIkP",
        "colab": {
          "base_uri": "https://localhost:8080/"
        },
        "outputId": "5cef2374-aa96-460d-954a-bea1f3cbfbc2"
      },
      "id": "DDWbNWAdcIkP",
      "execution_count": 38,
      "outputs": [
        {
          "output_type": "stream",
          "name": "stdout",
          "text": [
            "Found 12168 validated image filenames belonging to 2 classes.\n"
          ]
        }
      ]
    },
    {
      "cell_type": "code",
      "source": [
        "model_augBl = tf.keras.Sequential([\n",
        "    # Layer 1: Transform the image into correct format\n",
        "    tf.keras.layers.Flatten(input_shape=INPUT_DIM),\n",
        "    # Layer 2: 256 nodes\n",
        "    tf.keras.layers.Dense(HIDDEN_LAYER_DIM, activation='relu'),\n",
        "    # Layer 3: Work together with Layer 2 to produce 2 outputs\n",
        "    # To determine the class of the image\n",
        "    tf.keras.layers.Dense(OUTPUT_CLASSES)\n",
        "])\n",
        "\n",
        "model_augBl.compile(optimizer='Adam',\n",
        "              loss=tf.keras.losses.BinaryCrossentropy(from_logits=True),\n",
        "              metrics=[tf.keras.metrics.Precision(),\n",
        "                       tf.keras.metrics.Recall(),\n",
        "                       tfa.metrics.F1Score(num_classes=OUTPUT_CLASSES)])"
      ],
      "metadata": {
        "id": "50Os_ghLcI2Z"
      },
      "id": "50Os_ghLcI2Z",
      "execution_count": 39,
      "outputs": []
    },
    {
      "cell_type": "code",
      "source": [
        "training_model = False\n",
        "try:\n",
        "  model_augBl = load_savedModel('augmented_BL',train_generatorBL,test_generatorAll)\n",
        "except:\n",
        "  training_model = True\n",
        "  history_augBl = train_model(model_augBl,\"augmented_BL\",train_generatorBL,val_generatorAll)"
      ],
      "metadata": {
        "id": "sWEX7ofDcI5P",
        "colab": {
          "base_uri": "https://localhost:8080/"
        },
        "outputId": "b69b0b95-372f-4233-a967-3bd415239f45"
      },
      "id": "sWEX7ofDcI5P",
      "execution_count": 40,
      "outputs": [
        {
          "output_type": "stream",
          "name": "stdout",
          "text": [
            "Existing model found\n",
            "Model's performance on Trainining Dataset:\n",
            "381/381 [==============================] - 27s 70ms/step - loss: 0.3879 - precision_2: 0.8701 - recall_2: 0.7372 - f1_score: 0.8122\n",
            "\n",
            "Model's performance on Testing Dataset:\n",
            "127/127 [==============================] - 2s 16ms/step - loss: 0.4405 - precision_2: 0.8434 - recall_2: 0.7088 - f1_score: 0.7777\n"
          ]
        }
      ]
    },
    {
      "cell_type": "code",
      "source": [
        "# print(history.history.keys())\n",
        "if training_model:\n",
        "  model_stats(history_augBl,'loss','precision_2')"
      ],
      "metadata": {
        "id": "8laqfmaxcI8C"
      },
      "id": "8laqfmaxcI8C",
      "execution_count": 41,
      "outputs": []
    },
    {
      "cell_type": "code",
      "source": [
        "model_augBl = load_savedModel('augmented_BL',train_generatorBL,test_generatorAll)"
      ],
      "metadata": {
        "id": "4BI9gI_gcI-s",
        "colab": {
          "base_uri": "https://localhost:8080/"
        },
        "outputId": "a40f4ea6-0c97-493f-8677-66751682a5a8"
      },
      "id": "4BI9gI_gcI-s",
      "execution_count": 42,
      "outputs": [
        {
          "output_type": "stream",
          "name": "stdout",
          "text": [
            "Existing model found\n",
            "Model's performance on Trainining Dataset:\n",
            "381/381 [==============================] - 29s 74ms/step - loss: 0.3879 - precision_2: 0.8701 - recall_2: 0.7372 - f1_score: 0.8122\n",
            "\n",
            "Model's performance on Testing Dataset:\n",
            "127/127 [==============================] - 2s 16ms/step - loss: 0.4405 - precision_2: 0.8434 - recall_2: 0.7088 - f1_score: 0.7777\n"
          ]
        }
      ]
    },
    {
      "cell_type": "code",
      "source": [],
      "metadata": {
        "id": "p9qbt94GcJBK"
      },
      "id": "p9qbt94GcJBK",
      "execution_count": 42,
      "outputs": []
    },
    {
      "cell_type": "markdown",
      "id": "ygtJTqTARF4p",
      "metadata": {
        "id": "ygtJTqTARF4p"
      },
      "source": [
        "# Model 3: Data Augmentation with L2 Regularization\n",
        "**Data Preprocessing**\n",
        "1. Normalized image data\n",
        "2. Image Data Augmentation\n",
        "\n",
        "**Model**\n",
        "1.   1 Hidden Layer | 256 Nodes | Sigmoid Activation Function | L2 regularizer\n",
        "2. SGD Optimizer\n",
        "3. Loss: Binary Cross Entropy\n",
        "4. Metrics: F1 Score, Precision, Recall"
      ]
    },
    {
      "cell_type": "code",
      "execution_count": 43,
      "id": "CuNrQRfiQ5Q3",
      "metadata": {
        "id": "CuNrQRfiQ5Q3"
      },
      "outputs": [],
      "source": [
        "reg_lambda = 0.01\n",
        "model_l2 = tf.keras.Sequential([\n",
        "    # Layer 1: Transform the image into correct format\n",
        "    tf.keras.layers.Flatten(input_shape=INPUT_DIM),\n",
        "    # Layer 2: 256 nodes\n",
        "    tf.keras.layers.Dense(HIDDEN_LAYER_DIM, \n",
        "                          activation='sigmoid',\n",
        "                          kernel_regularizer=tf.keras.regularizers.l2(reg_lambda)),\n",
        "    # Layer 3: Work together with Layer 2 to produce 2 outputs\n",
        "    # To determine the class of the image\n",
        "    tf.keras.layers.Dense(OUTPUT_CLASSES,\n",
        "                           kernel_regularizer=tf.keras.regularizers.l2(reg_lambda))\n",
        "])"
      ]
    },
    {
      "cell_type": "code",
      "execution_count": 44,
      "id": "CubRv6WEQ5c9",
      "metadata": {
        "id": "CubRv6WEQ5c9"
      },
      "outputs": [],
      "source": [
        "model_l2.compile(optimizer='SGD',\n",
        "              loss=tf.keras.losses.BinaryCrossentropy(from_logits=True),\n",
        "              metrics=[tf.keras.metrics.Precision(),\n",
        "                       tf.keras.metrics.Recall(),\n",
        "                       tfa.metrics.F1Score(num_classes=OUTPUT_CLASSES)])"
      ]
    },
    {
      "cell_type": "code",
      "source": [
        "training_model = False\n",
        "try:\n",
        "  model_l2 = load_savedModel('normalize_l2',train_generatorAll,test_generatorAll)\n",
        "except:\n",
        "  training_model = True\n",
        "  history_l2 = train_model(model_l2,\"normalize_l2\",train_generatorAll,val_generatorAll)"
      ],
      "metadata": {
        "id": "Ld96b9ti9iZ_",
        "colab": {
          "base_uri": "https://localhost:8080/"
        },
        "outputId": "6f5b8106-6442-457f-aa62-ff97470b7adc"
      },
      "id": "Ld96b9ti9iZ_",
      "execution_count": 45,
      "outputs": [
        {
          "output_type": "stream",
          "name": "stdout",
          "text": [
            "Existing model found\n",
            "Model's performance on Trainining Dataset:\n",
            "381/381 [==============================] - 23s 60ms/step - loss: 0.5782 - precision_3: 0.8103 - recall_3: 0.5809 - f1_score: 0.6616\n",
            "\n",
            "Model's performance on Testing Dataset:\n",
            "127/127 [==============================] - 7s 57ms/step - loss: 0.5586 - precision_3: 0.8157 - recall_3: 0.6132 - f1_score: 0.6645\n"
          ]
        }
      ]
    },
    {
      "cell_type": "code",
      "execution_count": 46,
      "id": "jSJqq_WIzICf",
      "metadata": {
        "id": "jSJqq_WIzICf"
      },
      "outputs": [],
      "source": [
        "# print(history_l2.history.keys())\n",
        "if training_model:\n",
        "  model_stats(history_l2,'loss','precision_3')"
      ]
    },
    {
      "cell_type": "code",
      "execution_count": 47,
      "id": "bJ5ZHpCYQ5mG",
      "metadata": {
        "id": "bJ5ZHpCYQ5mG",
        "colab": {
          "base_uri": "https://localhost:8080/"
        },
        "outputId": "4fb3d226-2aa4-4441-d2b6-a7e2615198ca"
      },
      "outputs": [
        {
          "output_type": "stream",
          "name": "stdout",
          "text": [
            "Existing model found\n",
            "Model's performance on Trainining Dataset:\n",
            "381/381 [==============================] - 15s 38ms/step - loss: 0.5795 - precision_3: 0.8115 - recall_3: 0.5790 - f1_score: 0.6605\n",
            "\n",
            "Model's performance on Testing Dataset:\n",
            "127/127 [==============================] - 3s 23ms/step - loss: 0.5586 - precision_3: 0.8157 - recall_3: 0.6132 - f1_score: 0.6645\n"
          ]
        }
      ],
      "source": [
        "# if not training_model:\n",
        "model_l2 = load_savedModel('normalize_l2',train_generatorAll,test_generatorAll)"
      ]
    },
    {
      "cell_type": "markdown",
      "source": [
        "# Model 4: Data Augmentation + L2 Regularization + Drop out\n",
        "**Data Preprocessing**\n",
        "1. Normalized image data\n",
        "2. Image Data Augmentation\n",
        "\n",
        "**Model**\n",
        "1.   Hidden Layer 1 | 256 Nodes | Sigmoid Activation Function | L2 regularizer\n",
        "2. Hidden Layer 2 | Dropout layer\n",
        "2. SGD Optimizer\n",
        "3. Loss: Binary Cross Entropy\n",
        "4. Metrics: F1 Score, Precision, Recall"
      ],
      "metadata": {
        "id": "PZLYZ8IlDd0a"
      },
      "id": "PZLYZ8IlDd0a"
    },
    {
      "cell_type": "code",
      "source": [
        "reg_lambda = 0.01\n",
        "model_l2drp = tf.keras.Sequential([\n",
        "    # Layer 1: Transform the image into correct format\n",
        "    tf.keras.layers.Flatten(input_shape=INPUT_DIM),\n",
        "    # Layer 2: 256 nodes\n",
        "    tf.keras.layers.Dense(HIDDEN_LAYER_DIM, \n",
        "                          activation='sigmoid',\n",
        "                          ),\n",
        "    # Dropout Layer\n",
        "    tf.keras.layers.Dropout(.3),\n",
        "    tf.keras.layers.Dense(OUTPUT_CLASSES)\n",
        "])"
      ],
      "metadata": {
        "id": "sZD4dEJgek23"
      },
      "id": "sZD4dEJgek23",
      "execution_count": 48,
      "outputs": []
    },
    {
      "cell_type": "code",
      "source": [
        "model_l2drp.compile(optimizer='SGD',\n",
        "              loss=tf.keras.losses.BinaryCrossentropy(from_logits=True),\n",
        "              metrics=[tf.keras.metrics.Precision(),\n",
        "                       tf.keras.metrics.Recall(),\n",
        "                       tfa.metrics.F1Score(num_classes=OUTPUT_CLASSES)])"
      ],
      "metadata": {
        "id": "5knAfCEWD5vq"
      },
      "id": "5knAfCEWD5vq",
      "execution_count": 49,
      "outputs": []
    },
    {
      "cell_type": "code",
      "source": [
        "training_model = False\n",
        "try:\n",
        "  model_l2drp = load_savedModel('normalize_dropout',train_generatorAll,test_generatorAll)\n",
        "except:\n",
        "  training_model = True\n",
        "  history_l2drp = train_model(model_l2drp,\"normalize_dropout\",train_generatorAll,val_generatorAll)"
      ],
      "metadata": {
        "id": "xnH1uaPPD5_N",
        "colab": {
          "base_uri": "https://localhost:8080/"
        },
        "outputId": "cd6e3ed4-e95f-475f-97a8-16062338a753"
      },
      "id": "xnH1uaPPD5_N",
      "execution_count": 50,
      "outputs": [
        {
          "output_type": "stream",
          "name": "stdout",
          "text": [
            "Existing model found\n",
            "Model's performance on Trainining Dataset:\n",
            "381/381 [==============================] - 15s 37ms/step - loss: 0.4762 - precision_4: 0.8240 - recall_4: 0.6301 - f1_score: 0.7331\n",
            "\n",
            "Model's performance on Testing Dataset:\n",
            "127/127 [==============================] - 2s 16ms/step - loss: 0.4327 - precision_4: 0.8515 - recall_4: 0.6699 - f1_score: 0.7566\n"
          ]
        }
      ]
    },
    {
      "cell_type": "code",
      "source": [
        "if training_model:\n",
        "  model_stats(history_l2drp,'loss','precision_4')"
      ],
      "metadata": {
        "id": "LnNtlbIOD6Dj"
      },
      "id": "LnNtlbIOD6Dj",
      "execution_count": 51,
      "outputs": []
    },
    {
      "cell_type": "code",
      "source": [
        "model_l2drp = load_savedModel('normalize_dropout',train_generatorAll,test_generatorAll)"
      ],
      "metadata": {
        "id": "ORevHgf5D6GT",
        "colab": {
          "base_uri": "https://localhost:8080/"
        },
        "outputId": "ae4164ac-fabc-4753-9399-86257776b831"
      },
      "id": "ORevHgf5D6GT",
      "execution_count": 52,
      "outputs": [
        {
          "output_type": "stream",
          "name": "stdout",
          "text": [
            "Existing model found\n",
            "Model's performance on Trainining Dataset:\n",
            "381/381 [==============================] - 16s 40ms/step - loss: 0.4749 - precision_4: 0.8244 - recall_4: 0.6290 - f1_score: 0.7332\n",
            "\n",
            "Model's performance on Testing Dataset:\n",
            "127/127 [==============================] - 2s 17ms/step - loss: 0.4327 - precision_4: 0.8515 - recall_4: 0.6699 - f1_score: 0.7566\n"
          ]
        }
      ]
    },
    {
      "cell_type": "code",
      "source": [],
      "metadata": {
        "id": "ddBkgmyREabJ"
      },
      "id": "ddBkgmyREabJ",
      "execution_count": 52,
      "outputs": []
    }
  ],
  "metadata": {
    "colab": {
      "gpuType": "T4",
      "provenance": []
    },
    "gpuClass": "standard",
    "kernelspec": {
      "display_name": "tf",
      "language": "python",
      "name": "tf"
    },
    "language_info": {
      "codemirror_mode": {
        "name": "ipython",
        "version": 3
      },
      "file_extension": ".py",
      "mimetype": "text/x-python",
      "name": "python",
      "nbconvert_exporter": "python",
      "pygments_lexer": "ipython3",
      "version": "3.10.11"
    }
  },
  "nbformat": 4,
  "nbformat_minor": 5
}