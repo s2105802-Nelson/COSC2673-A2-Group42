{
 "cells": [
  {
   "cell_type": "markdown",
   "metadata": {},
   "source": [
    "<hr style=\"color:green\" />\n",
    "<h1 style=\"color:green\">COSC2673 Assignment 2: Image Classification for Cancerous Cells</h1>\n",
    "<h2 style=\"color:green\">File 02: Image Data Load for Extra Label</h2>\n",
    "<hr style=\"color:green\" />\n",
    "\n",
    "<p>\n",
    "In this file, load the image data files for the Extra File, and convert them in memory to a format that is machine learnable, and write to file\n",
    "</p>"
   ]
  },
  {
   "cell_type": "code",
   "execution_count": 3,
   "metadata": {},
   "outputs": [],
   "source": [
    "import tensorflow as tf\n",
    "AUTOTUNE = tf.data.experimental.AUTOTUNE\n",
    "\n",
    "import IPython.display as display\n",
    "from PIL import Image\n",
    "import numpy as np\n",
    "import matplotlib.pyplot as plt\n",
    "import os\n",
    "\n",
    "from sklearn.model_selection import train_test_split\n",
    "\n",
    "from PIL import Image\n",
    "import glob\n",
    "\n",
    "import pandas as pd\n",
    "\n",
    "\n",
    "import data_basic_utility as dbutil\n",
    "import graphing_utility as graphutil\n",
    "import statistics_utility as statsutil\n",
    "\n",
    "tf.__version__\n",
    "randomSeed = dbutil.get_random_seed()"
   ]
  },
  {
   "cell_type": "markdown",
   "metadata": {},
   "source": [
    "First, Load the Main Label data"
   ]
  },
  {
   "cell_type": "code",
   "execution_count": 4,
   "metadata": {},
   "outputs": [
    {
     "data": {
      "text/html": [
       "<div>\n",
       "<style scoped>\n",
       "    .dataframe tbody tr th:only-of-type {\n",
       "        vertical-align: middle;\n",
       "    }\n",
       "\n",
       "    .dataframe tbody tr th {\n",
       "        vertical-align: top;\n",
       "    }\n",
       "\n",
       "    .dataframe thead th {\n",
       "        text-align: right;\n",
       "    }\n",
       "</style>\n",
       "<table border=\"1\" class=\"dataframe\">\n",
       "  <thead>\n",
       "    <tr style=\"text-align: right;\">\n",
       "      <th></th>\n",
       "      <th>InstanceID</th>\n",
       "      <th>patientID</th>\n",
       "      <th>ImageName</th>\n",
       "      <th>isCancerous</th>\n",
       "      <th>cellTypeName</th>\n",
       "      <th>cellType</th>\n",
       "    </tr>\n",
       "  </thead>\n",
       "  <tbody>\n",
       "    <tr>\n",
       "      <th>0</th>\n",
       "      <td>12681</td>\n",
       "      <td>61</td>\n",
       "      <td>12681.png</td>\n",
       "      <td>0</td>\n",
       "      <td></td>\n",
       "      <td>-1</td>\n",
       "    </tr>\n",
       "    <tr>\n",
       "      <th>1</th>\n",
       "      <td>12682</td>\n",
       "      <td>61</td>\n",
       "      <td>12682.png</td>\n",
       "      <td>0</td>\n",
       "      <td></td>\n",
       "      <td>-1</td>\n",
       "    </tr>\n",
       "    <tr>\n",
       "      <th>2</th>\n",
       "      <td>12683</td>\n",
       "      <td>61</td>\n",
       "      <td>12683.png</td>\n",
       "      <td>0</td>\n",
       "      <td></td>\n",
       "      <td>-1</td>\n",
       "    </tr>\n",
       "    <tr>\n",
       "      <th>3</th>\n",
       "      <td>12684</td>\n",
       "      <td>61</td>\n",
       "      <td>12684.png</td>\n",
       "      <td>0</td>\n",
       "      <td></td>\n",
       "      <td>-1</td>\n",
       "    </tr>\n",
       "    <tr>\n",
       "      <th>4</th>\n",
       "      <td>12685</td>\n",
       "      <td>61</td>\n",
       "      <td>12685.png</td>\n",
       "      <td>0</td>\n",
       "      <td></td>\n",
       "      <td>-1</td>\n",
       "    </tr>\n",
       "  </tbody>\n",
       "</table>\n",
       "</div>"
      ],
      "text/plain": [
       "   InstanceID  patientID  ImageName  isCancerous cellTypeName  cellType\n",
       "0       12681         61  12681.png            0                     -1\n",
       "1       12682         61  12682.png            0                     -1\n",
       "2       12683         61  12683.png            0                     -1\n",
       "3       12684         61  12684.png            0                     -1\n",
       "4       12685         61  12685.png            0                     -1"
      ]
     },
     "execution_count": 4,
     "metadata": {},
     "output_type": "execute_result"
    }
   ],
   "source": [
    "# Use these locations for Google Colab, where we need the Github version of the file\n",
    "# locationMain = \"https://raw.githubusercontent.com/s2105802-Nelson/COSC2673-A2-Group42/main/Image_classification_data/data_labels_mainData.csv?token=GHSAT0AAAAAACBUMPCH5CK2I562VIUK4US4ZCB3SFQ\"\n",
    "\n",
    "# Use these locations for Nelson's local version of the file\n",
    "locationExtra = \"./Image_classification_data/data_labels_extraData.csv\"\n",
    "imageFolderPath = \"./Image_classification_data/patch_images/\"\n",
    "\n",
    "dfExtra = pd.read_csv(locationExtra)\n",
    "\n",
    "# Initialize the Cell Type Name column and the Cell Type column to be \"null\" values, so that it can be consisent in structure with the Main data\n",
    "dfExtra[\"cellTypeName\"] = \"\"\n",
    "dfExtra[\"cellType\"] = -1\n",
    "\n",
    "dfExtra.head()"
   ]
  },
  {
   "cell_type": "markdown",
   "metadata": {},
   "source": [
    "Do a Train/Validate/Test split of size 60/20/20"
   ]
  },
  {
   "cell_type": "code",
   "execution_count": 5,
   "metadata": {},
   "outputs": [
    {
     "name": "stdout",
     "output_type": "stream",
     "text": [
      "6230\n",
      "2077\n",
      "2077\n",
      "Test Ids:\n",
      "4144     10785\n",
      "10151    15603\n",
      "7137     12346\n",
      "7560      7420\n",
      "10367    20016\n",
      "         ...  \n",
      "8217     14979\n",
      "590      11658\n",
      "5233     15223\n",
      "4010     10636\n",
      "10343    19988\n",
      "Name: InstanceID, Length: 2077, dtype: int64\n"
     ]
    }
   ],
   "source": [
    "lstIds = dfExtra[\"InstanceID\"]\n",
    "\n",
    "# Assume that the Validation and Test Splits will be the same size, set this so we have a 60/20/20 split\n",
    "train_size = 0.6\n",
    "\n",
    "lstTrainIds, lstValTestIds = train_test_split(lstIds, test_size=(1-train_size), random_state=randomSeed)\n",
    "lstValIds, lstTestIds = train_test_split(lstValTestIds, test_size=0.5, random_state=randomSeed)\n",
    "\n",
    "print(len(lstTrainIds))\n",
    "print(len(lstValIds))\n",
    "print(len(lstTestIds))\n",
    "\n",
    "# Spot check the Test Ids\n",
    "print(\"Test Ids:\")\n",
    "print(lstTestIds)"
   ]
  },
  {
   "cell_type": "markdown",
   "metadata": {},
   "source": [
    "Now, Loop through the Image folder. Load the image data but only if it exists in the main label data"
   ]
  },
  {
   "cell_type": "code",
   "execution_count": 7,
   "metadata": {},
   "outputs": [
    {
     "name": "stdout",
     "output_type": "stream",
     "text": [
      "10246.png, isCancerous=0, cellType=-1\n",
      "10247.png, isCancerous=0, cellType=-1\n",
      "10248.png, isCancerous=0, cellType=-1\n",
      "10249.png, isCancerous=0, cellType=-1\n",
      "10250.png, isCancerous=0, cellType=-1\n",
      "10251.png, isCancerous=0, cellType=-1\n",
      "10252.png, isCancerous=0, cellType=-1\n",
      "10253.png, isCancerous=0, cellType=-1\n",
      "10254.png, isCancerous=0, cellType=-1\n"
     ]
    }
   ],
   "source": [
    "lstImages = []\n",
    "\n",
    "stepCount = 0\n",
    "for filepath in glob.glob(imageFolderPath + '*.png', recursive=True): #assuming gif\n",
    "    # Get the name of the file\n",
    "    filename = filepath.split(\"\\\\\")[-1]\n",
    "\n",
    "    # Check if there is a matching record in the Extra Label data, if so, add it to the dataframe\n",
    "    isCancerous = -1\n",
    "    cellType = -1\n",
    "    trainValTest = 0\n",
    "    dfLabelRecs = dfExtra[dfExtra[\"ImageName\"] == filename]\n",
    "    \n",
    "    if dfLabelRecs.shape[0] > 0:\n",
    "        # found a record, get the labels and append it with the file to the list\n",
    "        isCancerous = dfLabelRecs.iloc[0][\"isCancerous\"]\n",
    "        cellType = dfLabelRecs.iloc[0][\"cellType\"]\n",
    "        id = dfLabelRecs.iloc[0][\"InstanceID\"]\n",
    "\n",
    "        if id in lstValIds:\n",
    "            trainValTest = 1\n",
    "        elif id in lstTestIds:\n",
    "            trainValTest = 2\n",
    "\n",
    "        lstImages.append((filepath, isCancerous, cellType, trainValTest))\n",
    "\n",
    "        # Print just the first 10 of the data where the image was found to ensure we are on track\n",
    "        stepCount += 1\n",
    "        if stepCount < 10:\n",
    "            print(filename + \", isCancerous=\" + str(isCancerous) + \", cellType=\" + str(cellType))"
   ]
  },
  {
   "cell_type": "code",
   "execution_count": 8,
   "metadata": {},
   "outputs": [
    {
     "data": {
      "text/html": [
       "<div>\n",
       "<style scoped>\n",
       "    .dataframe tbody tr th:only-of-type {\n",
       "        vertical-align: middle;\n",
       "    }\n",
       "\n",
       "    .dataframe tbody tr th {\n",
       "        vertical-align: top;\n",
       "    }\n",
       "\n",
       "    .dataframe thead th {\n",
       "        text-align: right;\n",
       "    }\n",
       "</style>\n",
       "<table border=\"1\" class=\"dataframe\">\n",
       "  <thead>\n",
       "    <tr style=\"text-align: right;\">\n",
       "      <th></th>\n",
       "      <th>ImageName</th>\n",
       "      <th>isCancerous</th>\n",
       "      <th>cellType</th>\n",
       "      <th>trainValTest</th>\n",
       "    </tr>\n",
       "  </thead>\n",
       "  <tbody>\n",
       "    <tr>\n",
       "      <th>0</th>\n",
       "      <td>./Image_classification_data/patch_images\\10246...</td>\n",
       "      <td>0</td>\n",
       "      <td>-1</td>\n",
       "      <td>1</td>\n",
       "    </tr>\n",
       "    <tr>\n",
       "      <th>1</th>\n",
       "      <td>./Image_classification_data/patch_images\\10247...</td>\n",
       "      <td>0</td>\n",
       "      <td>-1</td>\n",
       "      <td>0</td>\n",
       "    </tr>\n",
       "    <tr>\n",
       "      <th>2</th>\n",
       "      <td>./Image_classification_data/patch_images\\10248...</td>\n",
       "      <td>0</td>\n",
       "      <td>-1</td>\n",
       "      <td>2</td>\n",
       "    </tr>\n",
       "    <tr>\n",
       "      <th>3</th>\n",
       "      <td>./Image_classification_data/patch_images\\10249...</td>\n",
       "      <td>0</td>\n",
       "      <td>-1</td>\n",
       "      <td>0</td>\n",
       "    </tr>\n",
       "    <tr>\n",
       "      <th>4</th>\n",
       "      <td>./Image_classification_data/patch_images\\10250...</td>\n",
       "      <td>0</td>\n",
       "      <td>-1</td>\n",
       "      <td>0</td>\n",
       "    </tr>\n",
       "  </tbody>\n",
       "</table>\n",
       "</div>"
      ],
      "text/plain": [
       "                                           ImageName  isCancerous  cellType  \\\n",
       "0  ./Image_classification_data/patch_images\\10246...            0        -1   \n",
       "1  ./Image_classification_data/patch_images\\10247...            0        -1   \n",
       "2  ./Image_classification_data/patch_images\\10248...            0        -1   \n",
       "3  ./Image_classification_data/patch_images\\10249...            0        -1   \n",
       "4  ./Image_classification_data/patch_images\\10250...            0        -1   \n",
       "\n",
       "   trainValTest  \n",
       "0             1  \n",
       "1             0  \n",
       "2             2  \n",
       "3             0  \n",
       "4             0  "
      ]
     },
     "execution_count": 8,
     "metadata": {},
     "output_type": "execute_result"
    }
   ],
   "source": [
    "# Create a data frame\n",
    "dfImages = pd.DataFrame(data=lstImages, columns=['ImageName', 'isCancerous', 'cellType', 'trainValTest'])\n",
    "dfImages.head()"
   ]
  },
  {
   "cell_type": "markdown",
   "metadata": {},
   "source": [
    "Plot some random images and review"
   ]
  },
  {
   "cell_type": "code",
   "execution_count": 9,
   "metadata": {},
   "outputs": [
    {
     "data": {
      "image/png": "[encoded data removed]",
      "text/plain": [
       "<Figure size 1600x400 with 4 Axes>"
      ]
     },
     "metadata": {},
     "output_type": "display_data"
    }
   ],
   "source": [
    "r_inx = np.random.choice(100, 4)\n",
    "rand_data = dfImages.loc[r_inx,'ImageName']\n",
    "\n",
    "plt.figure(figsize=(16,4))\n",
    "for i, image_path in enumerate(rand_data):\n",
    "    im = np.asarray(Image.open(image_path))\n",
    "    plt.subplot(1,4,i+1)\n",
    "    plt.imshow(im,cmap='gray')\n",
    "    plt.axis('off')\n",
    "    \n",
    "plt.show()"
   ]
  },
  {
   "cell_type": "markdown",
   "metadata": {},
   "source": [
    "Write the images dataframe to file, that can be used by other tensorflow models later\n"
   ]
  },
  {
   "cell_type": "code",
   "execution_count": 10,
   "metadata": {},
   "outputs": [],
   "source": [
    "dfImages.to_csv(\"images_extra.csv\", index=False)"
   ]
  },
  {
   "cell_type": "markdown",
   "metadata": {},
   "source": []
  }
 ],
 "metadata": {
  "kernelspec": {
   "display_name": "Python 3.9.5 64-bit",
   "language": "python",
   "name": "python3"
  },
  "language_info": {
   "codemirror_mode": {
    "name": "ipython",
    "version": 3
   },
   "file_extension": ".py",
   "mimetype": "text/x-python",
   "name": "python",
   "nbconvert_exporter": "python",
   "pygments_lexer": "ipython3",
   "version": "3.9.5"
  },
  "orig_nbformat": 4,
  "vscode": {
   "interpreter": {
    "hash": "dcbc78149e46ccbab92a3f68a48c52feb0796c7e10dad8e3f1a2a5a780973376"
   }
  }
 },
 "nbformat": 4,
 "nbformat_minor": 2
}
