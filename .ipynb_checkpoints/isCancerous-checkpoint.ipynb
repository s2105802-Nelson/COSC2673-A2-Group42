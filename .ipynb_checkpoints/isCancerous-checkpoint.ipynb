{
 "cells": [
  {
   "cell_type": "code",
   "execution_count": 1,
   "id": "ee293d67",
   "metadata": {
    "executionInfo": {
     "elapsed": 2,
     "status": "ok",
     "timestamp": 1683600745946,
     "user": {
      "displayName": "Hie",
      "userId": "15016016655707500633"
     },
     "user_tz": -600
    },
    "id": "ee293d67",
    "scrolled": true
   },
   "outputs": [],
   "source": [
    "import pandas as pd\n",
    "import cv2\n",
    "import matplotlib.pyplot as plt\n",
    "\n",
    "# df = pd.read_csv('Image_classification_data/data_labels_mainData.csv')"
   ]
  },
  {
   "cell_type": "code",
   "execution_count": 2,
   "id": "14939524",
   "metadata": {
    "colab": {
     "base_uri": "https://localhost:8080/"
    },
    "executionInfo": {
     "elapsed": 7,
     "status": "ok",
     "timestamp": 1683600747106,
     "user": {
      "displayName": "Hie",
      "userId": "15016016655707500633"
     },
     "user_tz": -600
    },
    "id": "14939524",
    "outputId": "427a4681-ed74-477f-cdb9-c2c7df790ee9"
   },
   "outputs": [
    {
     "name": "stdout",
     "output_type": "stream",
     "text": [
      "2.10.0\n"
     ]
    }
   ],
   "source": [
    "import tensorflow\n",
    "import pandas as pd\n",
    "import numpy as np\n",
    "print(tensorflow.__version__)"
   ]
  },
  {
   "cell_type": "code",
   "execution_count": 3,
   "id": "Jxhit5pCSQxs",
   "metadata": {
    "colab": {
     "base_uri": "https://localhost:8080/"
    },
    "executionInfo": {
     "elapsed": 7956,
     "status": "ok",
     "timestamp": 1683600755058,
     "user": {
      "displayName": "Hie",
      "userId": "15016016655707500633"
     },
     "user_tz": -600
    },
    "id": "Jxhit5pCSQxs",
    "outputId": "bc2808b1-a7f2-4144-f460-3ef244b35b12"
   },
   "outputs": [
    {
     "ename": "ModuleNotFoundError",
     "evalue": "No module named 'google.colab'",
     "output_type": "error",
     "traceback": [
      "\u001b[1;31m---------------------------------------------------------------------------\u001b[0m",
      "\u001b[1;31mModuleNotFoundError\u001b[0m                       Traceback (most recent call last)",
      "Cell \u001b[1;32mIn[3], line 1\u001b[0m\n\u001b[1;32m----> 1\u001b[0m \u001b[38;5;28;01mfrom\u001b[39;00m \u001b[38;5;21;01mgoogle\u001b[39;00m\u001b[38;5;21;01m.\u001b[39;00m\u001b[38;5;21;01mcolab\u001b[39;00m \u001b[38;5;28;01mimport\u001b[39;00m drive\n\u001b[0;32m      2\u001b[0m drive\u001b[38;5;241m.\u001b[39mmount(\u001b[38;5;124m'\u001b[39m\u001b[38;5;124m/content/drive\u001b[39m\u001b[38;5;124m'\u001b[39m)\n",
      "\u001b[1;31mModuleNotFoundError\u001b[0m: No module named 'google.colab'"
     ]
    }
   ],
   "source": [
    "from google.colab import drive\n",
    "drive.mount('/content/drive')\n",
    "# drive.mount(\"/content/drive/MyDrive/COSC2673\")"
   ]
  },
  {
   "cell_type": "code",
   "execution_count": null,
   "id": "IZkvQXD0TGC9",
   "metadata": {
    "colab": {
     "base_uri": "https://localhost:8080/"
    },
    "executionInfo": {
     "elapsed": 13,
     "status": "ok",
     "timestamp": 1683600755058,
     "user": {
      "displayName": "Hie",
      "userId": "15016016655707500633"
     },
     "user_tz": -600
    },
    "id": "IZkvQXD0TGC9",
    "outputId": "970b6de0-b172-4d1d-c80b-61db4b4d228d"
   },
   "outputs": [],
   "source": [
    "!ls /content/drive/'MyDrive'/'COSC2673'"
   ]
  },
  {
   "cell_type": "code",
   "execution_count": 33,
   "id": "C0opB0irTGtN",
   "metadata": {
    "colab": {
     "base_uri": "https://localhost:8080/"
    },
    "executionInfo": {
     "elapsed": 9,
     "status": "ok",
     "timestamp": 1683600755058,
     "user": {
      "displayName": "Hie",
      "userId": "15016016655707500633"
     },
     "user_tz": -600
    },
    "id": "C0opB0irTGtN",
    "outputId": "bd7231b2-f445-4c55-feeb-ea1ca45286d0"
   },
   "outputs": [
    {
     "name": "stdout",
     "output_type": "stream",
     "text": [
      "/content\n"
     ]
    }
   ],
   "source": [
    "! pwd"
   ]
  },
  {
   "cell_type": "code",
   "execution_count": 34,
   "id": "z7GQR-P7VQc8",
   "metadata": {
    "executionInfo": {
     "elapsed": 7,
     "status": "ok",
     "timestamp": 1683600755059,
     "user": {
      "displayName": "Hie",
      "userId": "15016016655707500633"
     },
     "user_tz": -600
    },
    "id": "z7GQR-P7VQc8"
   },
   "outputs": [],
   "source": [
    "locationMain = \"https://raw.githubusercontent.com/s2105802-Nelson/COSC2673-A2-Group42/main/Image_classification_data/data_labels_mainData.csv?token=GHSAT0AAAAAAB66J46AHYJ3PZY64K27X4MQZCIRGJQ\"\n",
    "locationExtra = \"https://raw.githubusercontent.com/s2105802-Nelson/COSC2673-A2-Group42/main/Image_classification_data/data_labels_extraData.csv?token=GHSAT0AAAAAAB66J46B5PRZN4MGBL36FXGUZCIRGWQ\"\n",
    "\n",
    "locationMain = \"/content/drive/MyDrive/COSC2673/Image_classification_data/data_labels_mainData.csv\"\n",
    "locationExtra = \"/content/drive/MyDrive/COSC2673/Image_classification_data/data_labels_extraData.csv\"\n",
    "dfMain = pd.read_csv(locationMain)\n",
    "dfExtra = pd.read_csv(locationExtra)"
   ]
  },
  {
   "cell_type": "code",
   "execution_count": 35,
   "id": "0e064aaf",
   "metadata": {
    "colab": {
     "base_uri": "https://localhost:8080/"
    },
    "executionInfo": {
     "elapsed": 7,
     "status": "ok",
     "timestamp": 1683600755059,
     "user": {
      "displayName": "Hie",
      "userId": "15016016655707500633"
     },
     "user_tz": -600
    },
    "id": "0e064aaf",
    "outputId": "c71cb110-4eba-42f1-c72f-c739f825ea2b",
    "scrolled": true
   },
   "outputs": [
    {
     "data": {
      "text/plain": [
       "(9896, 6)"
      ]
     },
     "execution_count": 35,
     "metadata": {},
     "output_type": "execute_result"
    }
   ],
   "source": [
    "dfMain.shape"
   ]
  },
  {
   "cell_type": "code",
   "execution_count": 36,
   "id": "72ddfba3",
   "metadata": {
    "colab": {
     "base_uri": "https://localhost:8080/",
     "height": 206
    },
    "executionInfo": {
     "elapsed": 6,
     "status": "ok",
     "timestamp": 1683600755059,
     "user": {
      "displayName": "Hie",
      "userId": "15016016655707500633"
     },
     "user_tz": -600
    },
    "id": "72ddfba3",
    "outputId": "4f8aae60-5e3e-4d80-8101-f3e75dab2a28"
   },
   "outputs": [
    {
     "data": {
      "text/html": [
       "\n",
       "  <div id=\"df-e80fcacd-c759-465b-bebb-195db1011c12\">\n",
       "    <div class=\"colab-df-container\">\n",
       "      <div>\n",
       "<style scoped>\n",
       "    .dataframe tbody tr th:only-of-type {\n",
       "        vertical-align: middle;\n",
       "    }\n",
       "\n",
       "    .dataframe tbody tr th {\n",
       "        vertical-align: top;\n",
       "    }\n",
       "\n",
       "    .dataframe thead th {\n",
       "        text-align: right;\n",
       "    }\n",
       "</style>\n",
       "<table border=\"1\" class=\"dataframe\">\n",
       "  <thead>\n",
       "    <tr style=\"text-align: right;\">\n",
       "      <th></th>\n",
       "      <th>InstanceID</th>\n",
       "      <th>patientID</th>\n",
       "      <th>ImageName</th>\n",
       "      <th>cellTypeName</th>\n",
       "      <th>cellType</th>\n",
       "      <th>isCancerous</th>\n",
       "    </tr>\n",
       "  </thead>\n",
       "  <tbody>\n",
       "    <tr>\n",
       "      <th>0</th>\n",
       "      <td>22405</td>\n",
       "      <td>1</td>\n",
       "      <td>22405.png</td>\n",
       "      <td>fibroblast</td>\n",
       "      <td>0</td>\n",
       "      <td>0</td>\n",
       "    </tr>\n",
       "    <tr>\n",
       "      <th>1</th>\n",
       "      <td>22406</td>\n",
       "      <td>1</td>\n",
       "      <td>22406.png</td>\n",
       "      <td>fibroblast</td>\n",
       "      <td>0</td>\n",
       "      <td>0</td>\n",
       "    </tr>\n",
       "    <tr>\n",
       "      <th>2</th>\n",
       "      <td>22407</td>\n",
       "      <td>1</td>\n",
       "      <td>22407.png</td>\n",
       "      <td>fibroblast</td>\n",
       "      <td>0</td>\n",
       "      <td>0</td>\n",
       "    </tr>\n",
       "    <tr>\n",
       "      <th>3</th>\n",
       "      <td>22408</td>\n",
       "      <td>1</td>\n",
       "      <td>22408.png</td>\n",
       "      <td>fibroblast</td>\n",
       "      <td>0</td>\n",
       "      <td>0</td>\n",
       "    </tr>\n",
       "    <tr>\n",
       "      <th>4</th>\n",
       "      <td>22409</td>\n",
       "      <td>1</td>\n",
       "      <td>22409.png</td>\n",
       "      <td>fibroblast</td>\n",
       "      <td>0</td>\n",
       "      <td>0</td>\n",
       "    </tr>\n",
       "  </tbody>\n",
       "</table>\n",
       "</div>\n",
       "      <button class=\"colab-df-convert\" onclick=\"convertToInteractive('df-e80fcacd-c759-465b-bebb-195db1011c12')\"\n",
       "              title=\"Convert this dataframe to an interactive table.\"\n",
       "              style=\"display:none;\">\n",
       "        \n",
       "  <svg xmlns=\"http://www.w3.org/2000/svg\" height=\"24px\"viewBox=\"0 0 24 24\"\n",
       "       width=\"24px\">\n",
       "    <path d=\"M0 0h24v24H0V0z\" fill=\"none\"/>\n",
       "    <path d=\"M18.56 5.44l.94 2.06.94-2.06 2.06-.94-2.06-.94-.94-2.06-.94 2.06-2.06.94zm-11 1L8.5 8.5l.94-2.06 2.06-.94-2.06-.94L8.5 2.5l-.94 2.06-2.06.94zm10 10l.94 2.06.94-2.06 2.06-.94-2.06-.94-.94-2.06-.94 2.06-2.06.94z\"/><path d=\"M17.41 7.96l-1.37-1.37c-.4-.4-.92-.59-1.43-.59-.52 0-1.04.2-1.43.59L10.3 9.45l-7.72 7.72c-.78.78-.78 2.05 0 2.83L4 21.41c.39.39.9.59 1.41.59.51 0 1.02-.2 1.41-.59l7.78-7.78 2.81-2.81c.8-.78.8-2.07 0-2.86zM5.41 20L4 18.59l7.72-7.72 1.47 1.35L5.41 20z\"/>\n",
       "  </svg>\n",
       "      </button>\n",
       "      \n",
       "  <style>\n",
       "    .colab-df-container {\n",
       "      display:flex;\n",
       "      flex-wrap:wrap;\n",
       "      gap: 12px;\n",
       "    }\n",
       "\n",
       "    .colab-df-convert {\n",
       "      background-color: #E8F0FE;\n",
       "      border: none;\n",
       "      border-radius: 50%;\n",
       "      cursor: pointer;\n",
       "      display: none;\n",
       "      fill: #1967D2;\n",
       "      height: 32px;\n",
       "      padding: 0 0 0 0;\n",
       "      width: 32px;\n",
       "    }\n",
       "\n",
       "    .colab-df-convert:hover {\n",
       "      background-color: #E2EBFA;\n",
       "      box-shadow: 0px 1px 2px rgba(60, 64, 67, 0.3), 0px 1px 3px 1px rgba(60, 64, 67, 0.15);\n",
       "      fill: #174EA6;\n",
       "    }\n",
       "\n",
       "    [theme=dark] .colab-df-convert {\n",
       "      background-color: #3B4455;\n",
       "      fill: #D2E3FC;\n",
       "    }\n",
       "\n",
       "    [theme=dark] .colab-df-convert:hover {\n",
       "      background-color: #434B5C;\n",
       "      box-shadow: 0px 1px 3px 1px rgba(0, 0, 0, 0.15);\n",
       "      filter: drop-shadow(0px 1px 2px rgba(0, 0, 0, 0.3));\n",
       "      fill: #FFFFFF;\n",
       "    }\n",
       "  </style>\n",
       "\n",
       "      <script>\n",
       "        const buttonEl =\n",
       "          document.querySelector('#df-e80fcacd-c759-465b-bebb-195db1011c12 button.colab-df-convert');\n",
       "        buttonEl.style.display =\n",
       "          google.colab.kernel.accessAllowed ? 'block' : 'none';\n",
       "\n",
       "        async function convertToInteractive(key) {\n",
       "          const element = document.querySelector('#df-e80fcacd-c759-465b-bebb-195db1011c12');\n",
       "          const dataTable =\n",
       "            await google.colab.kernel.invokeFunction('convertToInteractive',\n",
       "                                                     [key], {});\n",
       "          if (!dataTable) return;\n",
       "\n",
       "          const docLinkHtml = 'Like what you see? Visit the ' +\n",
       "            '<a target=\"_blank\" href=https://colab.research.google.com/notebooks/data_table.ipynb>data table notebook</a>'\n",
       "            + ' to learn more about interactive tables.';\n",
       "          element.innerHTML = '';\n",
       "          dataTable['output_type'] = 'display_data';\n",
       "          await google.colab.output.renderOutput(dataTable, element);\n",
       "          const docLink = document.createElement('div');\n",
       "          docLink.innerHTML = docLinkHtml;\n",
       "          element.appendChild(docLink);\n",
       "        }\n",
       "      </script>\n",
       "    </div>\n",
       "  </div>\n",
       "  "
      ],
      "text/plain": [
       "   InstanceID  patientID  ImageName cellTypeName  cellType  isCancerous\n",
       "0       22405          1  22405.png   fibroblast         0            0\n",
       "1       22406          1  22406.png   fibroblast         0            0\n",
       "2       22407          1  22407.png   fibroblast         0            0\n",
       "3       22408          1  22408.png   fibroblast         0            0\n",
       "4       22409          1  22409.png   fibroblast         0            0"
      ]
     },
     "execution_count": 36,
     "metadata": {},
     "output_type": "execute_result"
    }
   ],
   "source": [
    "dfMain.head()"
   ]
  },
  {
   "cell_type": "code",
   "execution_count": 37,
   "id": "IiHlME8nE7Bn",
   "metadata": {
    "colab": {
     "base_uri": "https://localhost:8080/"
    },
    "executionInfo": {
     "elapsed": 5,
     "status": "ok",
     "timestamp": 1683600755059,
     "user": {
      "displayName": "Hie",
      "userId": "15016016655707500633"
     },
     "user_tz": -600
    },
    "id": "IiHlME8nE7Bn",
    "outputId": "3ca37833-4681-4f8b-e492-a620940d0f08"
   },
   "outputs": [
    {
     "name": "stdout",
     "output_type": "stream",
     "text": [
      "<class 'pandas.core.frame.DataFrame'>\n",
      "RangeIndex: 9896 entries, 0 to 9895\n",
      "Data columns (total 6 columns):\n",
      " #   Column        Non-Null Count  Dtype \n",
      "---  ------        --------------  ----- \n",
      " 0   InstanceID    9896 non-null   int64 \n",
      " 1   patientID     9896 non-null   int64 \n",
      " 2   ImageName     9896 non-null   object\n",
      " 3   cellTypeName  9896 non-null   object\n",
      " 4   cellType      9896 non-null   int64 \n",
      " 5   isCancerous   9896 non-null   int64 \n",
      "dtypes: int64(4), object(2)\n",
      "memory usage: 464.0+ KB\n"
     ]
    }
   ],
   "source": [
    "dfMain.info()"
   ]
  },
  {
   "cell_type": "code",
   "execution_count": 38,
   "id": "5c3109db",
   "metadata": {
    "colab": {
     "base_uri": "https://localhost:8080/"
    },
    "executionInfo": {
     "elapsed": 578,
     "status": "ok",
     "timestamp": 1683600757708,
     "user": {
      "displayName": "Hie",
      "userId": "15016016655707500633"
     },
     "user_tz": -600
    },
    "id": "5c3109db",
    "outputId": "ec84c180-267a-472b-90ee-da49bedd9206"
   },
   "outputs": [
    {
     "data": {
      "text/plain": [
       "InstanceID       int64\n",
       "patientID        int64\n",
       "ImageName       object\n",
       "cellTypeName    object\n",
       "cellType         int64\n",
       "isCancerous      int64\n",
       "dtype: object"
      ]
     },
     "execution_count": 38,
     "metadata": {},
     "output_type": "execute_result"
    }
   ],
   "source": [
    "dfMain.dtypes"
   ]
  },
  {
   "cell_type": "code",
   "execution_count": 39,
   "id": "U2NMhYQzDMlK",
   "metadata": {
    "executionInfo": {
     "elapsed": 2,
     "status": "ok",
     "timestamp": 1683600757709,
     "user": {
      "displayName": "Hie",
      "userId": "15016016655707500633"
     },
     "user_tz": -600
    },
    "id": "U2NMhYQzDMlK"
   },
   "outputs": [],
   "source": [
    "dfMain['isCancerous'] = dfMain['isCancerous'].astype(str)\n",
    "dfMain['cellType'] = dfMain['cellType'].astype(str)"
   ]
  },
  {
   "cell_type": "code",
   "execution_count": 40,
   "id": "ZfdPKjJDD-pp",
   "metadata": {
    "colab": {
     "base_uri": "https://localhost:8080/"
    },
    "executionInfo": {
     "elapsed": 3,
     "status": "ok",
     "timestamp": 1683600760106,
     "user": {
      "displayName": "Hie",
      "userId": "15016016655707500633"
     },
     "user_tz": -600
    },
    "id": "ZfdPKjJDD-pp",
    "outputId": "b985ffb0-7dc0-437e-acea-57fa1026f02e"
   },
   "outputs": [
    {
     "data": {
      "text/plain": [
       "InstanceID       int64\n",
       "patientID        int64\n",
       "ImageName       object\n",
       "cellTypeName    object\n",
       "cellType        object\n",
       "isCancerous     object\n",
       "dtype: object"
      ]
     },
     "execution_count": 40,
     "metadata": {},
     "output_type": "execute_result"
    }
   ],
   "source": [
    "dfMain.dtypes"
   ]
  },
  {
   "cell_type": "code",
   "execution_count": 41,
   "id": "c75e7c4e",
   "metadata": {
    "colab": {
     "base_uri": "https://localhost:8080/"
    },
    "executionInfo": {
     "elapsed": 1853,
     "status": "ok",
     "timestamp": 1683600763867,
     "user": {
      "displayName": "Hie",
      "userId": "15016016655707500633"
     },
     "user_tz": -600
    },
    "id": "c75e7c4e",
    "outputId": "95799e58-9e76-44dd-cd75-39c754ed37bd"
   },
   "outputs": [
    {
     "data": {
      "text/plain": [
       "(4079, 6)"
      ]
     },
     "execution_count": 41,
     "metadata": {},
     "output_type": "execute_result"
    }
   ],
   "source": [
    "cancerous = dfMain[dfMain.isCancerous == '1']\n",
    "benign = dfMain[dfMain.isCancerous == '0']\n",
    "cancerous.shape"
   ]
  },
  {
   "cell_type": "code",
   "execution_count": 42,
   "id": "2915f084",
   "metadata": {
    "colab": {
     "base_uri": "https://localhost:8080/"
    },
    "executionInfo": {
     "elapsed": 3,
     "status": "ok",
     "timestamp": 1683600763867,
     "user": {
      "displayName": "Hie",
      "userId": "15016016655707500633"
     },
     "user_tz": -600
    },
    "id": "2915f084",
    "outputId": "da61ae48-c277-40f3-cb01-7564d8c216ca"
   },
   "outputs": [
    {
     "data": {
      "text/plain": [
       "(5817, 6)"
      ]
     },
     "execution_count": 42,
     "metadata": {},
     "output_type": "execute_result"
    }
   ],
   "source": [
    "benign.shape"
   ]
  },
  {
   "cell_type": "code",
   "execution_count": 43,
   "id": "aNUiGo09D6ee",
   "metadata": {
    "colab": {
     "base_uri": "https://localhost:8080/"
    },
    "executionInfo": {
     "elapsed": 4,
     "status": "ok",
     "timestamp": 1683600765801,
     "user": {
      "displayName": "Hie",
      "userId": "15016016655707500633"
     },
     "user_tz": -600
    },
    "id": "aNUiGo09D6ee",
    "outputId": "c0e60ef4-f234-420b-949b-76ba710b684c"
   },
   "outputs": [
    {
     "data": {
      "text/plain": [
       "Int64Index([ 449,  450,  451,  452,  453,  454,  455,  456,  457,  458,\n",
       "            ...\n",
       "            9886, 9887, 9888, 9889, 9890, 9891, 9892, 9893, 9894, 9895],\n",
       "           dtype='int64', length=4079)"
      ]
     },
     "execution_count": 43,
     "metadata": {},
     "output_type": "execute_result"
    }
   ],
   "source": [
    "cancerous.index"
   ]
  },
  {
   "cell_type": "code",
   "execution_count": 44,
   "id": "jOlyVmlmbMf9",
   "metadata": {
    "executionInfo": {
     "elapsed": 3413,
     "status": "ok",
     "timestamp": 1683600771530,
     "user": {
      "displayName": "Hie",
      "userId": "15016016655707500633"
     },
     "user_tz": -600
    },
    "id": "jOlyVmlmbMf9"
   },
   "outputs": [],
   "source": [
    "# Load images from zip file\n",
    "! cp /content/drive/'MyDrive'/'COSC2673'/Image_classification_data/patch_images.zip .\n",
    "! unzip -q -o patch_images.zip\n",
    "# ! rm patch"
   ]
  },
  {
   "cell_type": "code",
   "execution_count": 45,
   "id": "UfPvg6d1dOxx",
   "metadata": {
    "colab": {
     "base_uri": "https://localhost:8080/",
     "height": 345
    },
    "executionInfo": {
     "elapsed": 5,
     "status": "ok",
     "timestamp": 1683600771530,
     "user": {
      "displayName": "Hie",
      "userId": "15016016655707500633"
     },
     "user_tz": -600
    },
    "id": "UfPvg6d1dOxx",
    "outputId": "395bdcf4-c49a-44ca-8e1b-90c5219398ee"
   },
   "outputs": [
    {
     "data": {
      "image/png": "[encoded data removed]",
      "text/plain": [
       "<Figure size 1600x400 with 10 Axes>"
      ]
     },
     "metadata": {},
     "output_type": "display_data"
    }
   ],
   "source": [
    "from PIL import Image\n",
    "\n",
    "r_inx = np.random.choice(cancerous.index, 10)\n",
    "rand_data = cancerous.loc[r_inx,'ImageName']\n",
    "\n",
    "plt.figure(figsize=(16,4))\n",
    "for i, image_path in enumerate(rand_data):\n",
    "    im = np.asarray(Image.open('patch_images/'+image_path))\n",
    "    plt.subplot(2,5,i+1)\n",
    "    plt.imshow(im,cmap='gray')\n",
    "    plt.axis('off')\n",
    "\n",
    "# plt.title(\"Cancerous Cell Images\")\n",
    "plt.show()"
   ]
  },
  {
   "cell_type": "code",
   "execution_count": 46,
   "id": "e83a9782",
   "metadata": {
    "colab": {
     "base_uri": "https://localhost:8080/",
     "height": 345
    },
    "executionInfo": {
     "elapsed": 3,
     "status": "ok",
     "timestamp": 1683600771530,
     "user": {
      "displayName": "Hie",
      "userId": "15016016655707500633"
     },
     "user_tz": -600
    },
    "id": "e83a9782",
    "outputId": "883359ef-2e2f-47b6-ac63-da80a1807675"
   },
   "outputs": [
    {
     "data": {
      "image/png": "[encoded data removed]",
      "text/plain": [
       "<Figure size 1600x400 with 10 Axes>"
      ]
     },
     "metadata": {},
     "output_type": "display_data"
    }
   ],
   "source": [
    "from PIL import Image\n",
    "\n",
    "r_inx = np.random.choice(benign.index, 10)\n",
    "rand_data = benign.loc[r_inx,'ImageName']\n",
    "\n",
    "plt.figure(figsize=(16,4))\n",
    "for i, image_path in enumerate(rand_data):\n",
    "    im = np.asarray(Image.open('patch_images/'+image_path))\n",
    "    plt.subplot(2,5,i+1)\n",
    "    plt.imshow(im,cmap='gray')\n",
    "    plt.axis('off')\n",
    "\n",
    "# plt.title(\"Normal Cell Images\") \n",
    "plt.show()"
   ]
  },
  {
   "cell_type": "code",
   "execution_count": 47,
   "id": "pn_8jel-Vptv",
   "metadata": {
    "executionInfo": {
     "elapsed": 2,
     "status": "ok",
     "timestamp": 1683600772212,
     "user": {
      "displayName": "Hie",
      "userId": "15016016655707500633"
     },
     "user_tz": -600
    },
    "id": "pn_8jel-Vptv"
   },
   "outputs": [],
   "source": [
    "from sklearn.model_selection import train_test_split\n",
    "state = 1212125\n",
    "train_val_df,test_df = train_test_split(dfMain,test_size=0.2,shuffle=True,random_state=state)\n",
    "\n",
    "train_df, val_df = train_test_split(train_val_df, test_size=0.25, shuffle = True, random_state = state)"
   ]
  },
  {
   "cell_type": "code",
   "execution_count": 48,
   "id": "NlTmhKdzbChS",
   "metadata": {
    "colab": {
     "base_uri": "https://localhost:8080/"
    },
    "executionInfo": {
     "elapsed": 2,
     "status": "ok",
     "timestamp": 1683600775041,
     "user": {
      "displayName": "Hie",
      "userId": "15016016655707500633"
     },
     "user_tz": -600
    },
    "id": "NlTmhKdzbChS",
    "outputId": "286d8437-a4ee-4c4a-dfe2-d67e25de5622"
   },
   "outputs": [
    {
     "name": "stdout",
     "output_type": "stream",
     "text": [
      "Shape of Training dataset: (5937, 6)\n",
      "Shape of Validation dataset: (1979, 6)\n",
      "Shape of testing dataset: (1980, 6)\n"
     ]
    }
   ],
   "source": [
    "print(\"Shape of Training dataset:\",train_df.shape)\n",
    "print(\"Shape of Validation dataset:\", val_df.shape)\n",
    "print(\"Shape of testing dataset:\", test_df.shape)\n"
   ]
  },
  {
   "cell_type": "code",
   "execution_count": 49,
   "id": "izbkpGp0e_Uy",
   "metadata": {
    "colab": {
     "base_uri": "https://localhost:8080/",
     "height": 430
    },
    "executionInfo": {
     "elapsed": 542,
     "status": "ok",
     "timestamp": 1683600776601,
     "user": {
      "displayName": "Hie",
      "userId": "15016016655707500633"
     },
     "user_tz": -600
    },
    "id": "izbkpGp0e_Uy",
    "outputId": "e6179df8-ab75-490a-8d3c-4c721ca57feb"
   },
   "outputs": [
    {
     "data": {
      "image/png": "[encoded data removed]",
      "text/plain": [
       "<Figure size 640x480 with 2 Axes>"
      ]
     },
     "metadata": {},
     "output_type": "display_data"
    }
   ],
   "source": [
    "for i,col in enumerate(dfMain[['isCancerous','cellType']]):\n",
    "  plt.subplot(1,2,i+1)\n",
    "  plt.hist((dfMain[col],train_df[col],val_df[col],test_df[col])\n",
    "  ,4,\n",
    "  label=('Full','Train','Validation','Test'))\n",
    "  plt.legend()\n",
    "  # plt.hist(dfMain[col],alpha=0.6,color='b')\n",
    "  # plt.hist(train_df[col],alpha=0.6,color='r')\n",
    "  # plt.hist(val_df[col],alpha=0.6,color='y')\n",
    "  # plt.hist(test_df[col],alpha=0.6,color='g')"
   ]
  },
  {
   "cell_type": "markdown",
   "id": "9UmuNI4f_N9G",
   "metadata": {
    "id": "9UmuNI4f_N9G"
   },
   "source": [
    "# Buildilng A Neural Network Model for Cancerous Cell Detection"
   ]
  },
  {
   "cell_type": "code",
   "execution_count": 50,
   "id": "8Xxq1P9cgH2f",
   "metadata": {
    "executionInfo": {
     "elapsed": 1423,
     "status": "ok",
     "timestamp": 1683600783917,
     "user": {
      "displayName": "Hie",
      "userId": "15016016655707500633"
     },
     "user_tz": -600
    },
    "id": "8Xxq1P9cgH2f"
   },
   "outputs": [],
   "source": [
    "# 27 x 27 with 3 channels\n",
    "INPUT_DIM = (27,27,3)\n",
    "# Number of nodes in the hidden layer\n",
    "HIDDEN_LAYER_DIM = 256\n",
    "# Number of class to be predicted\n",
    "OUTPUT_CLASSES = 2"
   ]
  },
  {
   "cell_type": "code",
   "execution_count": 51,
   "id": "L_--WWRJiJSB",
   "metadata": {
    "executionInfo": {
     "elapsed": 2,
     "status": "ok",
     "timestamp": 1683600784467,
     "user": {
      "displayName": "Hie",
      "userId": "15016016655707500633"
     },
     "user_tz": -600
    },
    "id": "L_--WWRJiJSB"
   },
   "outputs": [],
   "source": [
    "# Using Sequential API to build the model as shown in the tutorial\n",
    "import tensorflow as tf\n",
    "\n",
    "model = tf.keras.Sequential([\n",
    "    # Layer 1: Transform the image into correct format\n",
    "    tf.keras.layers.Flatten(input_shape=INPUT_DIM),\n",
    "    # Layer 2: 256 nodes\n",
    "    tf.keras.layers.Dense(HIDDEN_LAYER_DIM, activation='sigmoid'),\n",
    "    # Layer 3: Work together with Layer 2 to produce 2 outputs\n",
    "    # To determine the class of the image\n",
    "    tf.keras.layers.Dense(OUTPUT_CLASSES)\n",
    "])"
   ]
  },
  {
   "cell_type": "code",
   "execution_count": 52,
   "id": "WLv3UJ9xiKeE",
   "metadata": {
    "colab": {
     "base_uri": "https://localhost:8080/"
    },
    "executionInfo": {
     "elapsed": 5,
     "status": "ok",
     "timestamp": 1683600786506,
     "user": {
      "displayName": "Hie",
      "userId": "15016016655707500633"
     },
     "user_tz": -600
    },
    "id": "WLv3UJ9xiKeE",
    "outputId": "ae27f51d-d4ad-4f5a-dfcd-2c93605fe03c"
   },
   "outputs": [
    {
     "name": "stdout",
     "output_type": "stream",
     "text": [
      "Model: \"sequential_2\"\n",
      "_________________________________________________________________\n",
      " Layer (type)                Output Shape              Param #   \n",
      "=================================================================\n",
      " flatten_2 (Flatten)         (None, 2187)              0         \n",
      "                                                                 \n",
      " dense_6 (Dense)             (None, 256)               560128    \n",
      "                                                                 \n",
      " dense_7 (Dense)             (None, 2)                 514       \n",
      "                                                                 \n",
      "=================================================================\n",
      "Total params: 560,642\n",
      "Trainable params: 560,642\n",
      "Non-trainable params: 0\n",
      "_________________________________________________________________\n"
     ]
    }
   ],
   "source": [
    "model.summary()"
   ]
  },
  {
   "cell_type": "code",
   "execution_count": 53,
   "id": "qPJly9zjiNO1",
   "metadata": {
    "colab": {
     "base_uri": "https://localhost:8080/",
     "height": 422
    },
    "executionInfo": {
     "elapsed": 1787,
     "status": "ok",
     "timestamp": 1683600791368,
     "user": {
      "displayName": "Hie",
      "userId": "15016016655707500633"
     },
     "user_tz": -600
    },
    "id": "qPJly9zjiNO1",
    "outputId": "567fceec-10c4-4658-cd1d-cd2060cc4b41"
   },
   "outputs": [
    {
     "data": {
      "image/png": "[encoded data removed]",
      "text/plain": [
       "<IPython.core.display.Image object>"
      ]
     },
     "execution_count": 53,
     "metadata": {},
     "output_type": "execute_result"
    }
   ],
   "source": [
    "tf.keras.utils.plot_model(model, show_shapes=True)"
   ]
  },
  {
   "cell_type": "markdown",
   "id": "EhYKe8LMAo-N",
   "metadata": {
    "id": "EhYKe8LMAo-N"
   },
   "source": [
    "## Compiling the model\n",
    "Different parameters could be used to train the model, one of the parameters is to set the performance measure when training the data. \n",
    "\n",
    "As discussed, the metrics that are of importance in this task is precision and recall, thus, these metrics will be used"
   ]
  },
  {
   "cell_type": "code",
   "execution_count": 54,
   "id": "wVtN1Vf2LJwC",
   "metadata": {
    "colab": {
     "base_uri": "https://localhost:8080/"
    },
    "executionInfo": {
     "elapsed": 4234,
     "status": "ok",
     "timestamp": 1683600796146,
     "user": {
      "displayName": "Hie",
      "userId": "15016016655707500633"
     },
     "user_tz": -600
    },
    "id": "wVtN1Vf2LJwC",
    "outputId": "428b49a8-3168-4af6-d3cb-c914a8a0a554"
   },
   "outputs": [
    {
     "name": "stdout",
     "output_type": "stream",
     "text": [
      "Looking in indexes: https://pypi.org/simple, https://us-python.pkg.dev/colab-wheels/public/simple/\n",
      "Requirement already satisfied: tensorflow-addons in /usr/local/lib/python3.10/dist-packages (0.20.0)\n",
      "Requirement already satisfied: typeguard<3.0.0,>=2.7 in /usr/local/lib/python3.10/dist-packages (from tensorflow-addons) (2.13.3)\n",
      "Requirement already satisfied: packaging in /usr/local/lib/python3.10/dist-packages (from tensorflow-addons) (23.1)\n"
     ]
    }
   ],
   "source": [
    "!pip install tensorflow-addons"
   ]
  },
  {
   "cell_type": "code",
   "execution_count": 55,
   "id": "4ilm9xsQiOym",
   "metadata": {
    "executionInfo": {
     "elapsed": 6,
     "status": "ok",
     "timestamp": 1683600796146,
     "user": {
      "displayName": "Hie",
      "userId": "15016016655707500633"
     },
     "user_tz": -600
    },
    "id": "4ilm9xsQiOym"
   },
   "outputs": [],
   "source": [
    "import tensorflow_addons as tfa\n",
    "\n",
    "model.compile(optimizer='SGD',\n",
    "              loss=tf.keras.losses.BinaryCrossentropy(from_logits=True),\n",
    "              metrics=[tf.keras.metrics.Precision(),\n",
    "                       tf.keras.metrics.Recall(),\n",
    "                       tfa.metrics.F1Score(num_classes=OUTPUT_CLASSES)])"
   ]
  },
  {
   "cell_type": "code",
   "execution_count": 56,
   "id": "NKPsn983iRuH",
   "metadata": {
    "colab": {
     "base_uri": "https://localhost:8080/"
    },
    "executionInfo": {
     "elapsed": 6,
     "status": "ok",
     "timestamp": 1683600796146,
     "user": {
      "displayName": "Hie",
      "userId": "15016016655707500633"
     },
     "user_tz": -600
    },
    "id": "NKPsn983iRuH",
    "outputId": "eb6a9c0e-0d89-4583-ca57-f52e5bfa458c"
   },
   "outputs": [
    {
     "name": "stdout",
     "output_type": "stream",
     "text": [
      "Found 5937 validated image filenames belonging to 2 classes.\n",
      "Found 1979 validated image filenames belonging to 2 classes.\n"
     ]
    }
   ],
   "source": [
    "from tensorflow.keras.preprocessing.image import ImageDataGenerator\n",
    "\n",
    "# rescale normalized the image from 0-255 to 0-1\n",
    "# data_format shows the order of the shape (samples,height,width,channels)\n",
    "train_datagen = ImageDataGenerator(rescale=1./255, data_format='channels_last')\n",
    "val_datagen = ImageDataGenerator(rescale=1./255, data_format='channels_last')\n",
    "\n",
    "batch_size = 32\n",
    "\n",
    "# flow_from_dataframe takes the dataframe and path \n",
    "# to generate batches of augmented data\n",
    "#\n",
    "# Data augmentation is a process of artificially increasing the amount of data \n",
    "# by generating new data points from existing data\n",
    "train_generator = train_datagen.flow_from_dataframe(\n",
    "        dataframe=train_df,\n",
    "        directory='patch_images/',\n",
    "        x_col=\"ImageName\",\n",
    "        y_col=\"isCancerous\",\n",
    "        target_size=(27, 27),\n",
    "        batch_size=batch_size,\n",
    "        class_mode='categorical')\n",
    "\n",
    "validation_generator = val_datagen.flow_from_dataframe(\n",
    "        dataframe=val_df,\n",
    "        directory='patch_images/',\n",
    "        x_col=\"ImageName\",\n",
    "        y_col=\"isCancerous\",\n",
    "        target_size=(27, 27),\n",
    "        batch_size=batch_size,\n",
    "        class_mode='categorical')"
   ]
  },
  {
   "cell_type": "code",
   "execution_count": null,
   "id": "Q1zH_Ki8h3b5",
   "metadata": {
    "id": "Q1zH_Ki8h3b5"
   },
   "outputs": [],
   "source": [
    "# https://vijayabhaskar96.medium.com/tutorial-on-keras-imagedatagenerator-with-flow-from-dataframe-8bd5776e45c1"
   ]
  },
  {
   "cell_type": "code",
   "execution_count": null,
   "id": "42BtJgJ8B8Xt",
   "metadata": {
    "colab": {
     "base_uri": "https://localhost:8080/"
    },
    "id": "42BtJgJ8B8Xt",
    "outputId": "55b927f2-3252-4a8f-bca4-bcdb26fd32f8"
   },
   "outputs": [
    {
     "name": "stderr",
     "output_type": "stream",
     "text": [
      "<ipython-input-112-3d796bb80333>:1: UserWarning: `Model.fit_generator` is deprecated and will be removed in a future version. Please use `Model.fit`, which supports generators.\n",
      "  history = model.fit_generator(train_generator, validation_data = validation_generator, epochs=150, verbose=0)\n"
     ]
    }
   ],
   "source": [
    "history = model.fit_generator(train_generator, validation_data = validation_generator, epochs=150, verbose=0)"
   ]
  },
  {
   "cell_type": "code",
   "execution_count": null,
   "id": "EGFZdkgpB-ol",
   "metadata": {
    "colab": {
     "base_uri": "https://localhost:8080/",
     "height": 355
    },
    "executionInfo": {
     "elapsed": 813,
     "status": "ok",
     "timestamp": 1682746947180,
     "user": {
      "displayName": "Hie",
      "userId": "15016016655707500633"
     },
     "user_tz": -600
    },
    "id": "EGFZdkgpB-ol",
    "outputId": "3fb5e3d3-6a98-44fb-c142-43b6e87819c1"
   },
   "outputs": [
    {
     "data": {
      "image/png": "[encoded data removed]",
      "text/plain": [
       "<Figure size 1000x500 with 2 Axes>"
      ]
     },
     "metadata": {},
     "output_type": "display_data"
    }
   ],
   "source": [
    "plt.figure(figsize=(10,5))\n",
    "plt.subplot(1,2,1)\n",
    "plt.plot(history.history['loss'], 'r--')\n",
    "plt.plot(history.history['val_loss'], 'b--')\n",
    "plt.xlabel(\"epochs\")\n",
    "plt.ylabel(\"Loss\")\n",
    "plt.legend(['train', 'val'], loc='upper left')\n",
    "\n",
    "plt.subplot(1,2,2)\n",
    "plt.plot(history.history['precision'], 'r--')\n",
    "plt.plot(history.history['val_precision'], 'b--')\n",
    "plt.xlabel(\"epochs\")\n",
    "plt.ylabel(\"Accuracy\")\n",
    "plt.legend(['train', 'val'], loc='upper left')\n",
    "plt.show()\n",
    "\n",
    "plt.show()"
   ]
  },
  {
   "cell_type": "code",
   "execution_count": 57,
   "id": "2w9cezfbVhWf",
   "metadata": {
    "colab": {
     "base_uri": "https://localhost:8080/"
    },
    "executionInfo": {
     "elapsed": 734,
     "status": "ok",
     "timestamp": 1683600805836,
     "user": {
      "displayName": "Hie",
      "userId": "15016016655707500633"
     },
     "user_tz": -600
    },
    "id": "2w9cezfbVhWf",
    "outputId": "780852e4-cc24-4dd4-f27b-f38ed9d8fb91"
   },
   "outputs": [
    {
     "name": "stdout",
     "output_type": "stream",
     "text": [
      "Found 1980 validated image filenames belonging to 2 classes.\n"
     ]
    }
   ],
   "source": [
    "test_datagen = ImageDataGenerator(rescale=1./255, data_format='channels_last')\n",
    "\n",
    "test_generator = test_datagen.flow_from_dataframe(\n",
    "        dataframe=test_df,\n",
    "        directory='patch_images/',\n",
    "        x_col=\"ImageName\",\n",
    "        y_col=\"isCancerous\",\n",
    "        target_size=(27, 27),\n",
    "        batch_size=batch_size,\n",
    "        class_mode='categorical')"
   ]
  },
  {
   "cell_type": "code",
   "execution_count": null,
   "id": "wRa083xseU2g",
   "metadata": {
    "colab": {
     "base_uri": "https://localhost:8080/"
    },
    "executionInfo": {
     "elapsed": 2448,
     "status": "ok",
     "timestamp": 1682746949625,
     "user": {
      "displayName": "Hie",
      "userId": "15016016655707500633"
     },
     "user_tz": -600
    },
    "id": "wRa083xseU2g",
    "outputId": "a0275aa0-84cb-4e22-ed52-5aba02e14ba3"
   },
   "outputs": [
    {
     "name": "stdout",
     "output_type": "stream",
     "text": [
      "62/62 [==============================] - 2s 29ms/step - loss: 0.3150 - precision: 0.8929 - recall: 0.8207\n"
     ]
    },
    {
     "data": {
      "text/plain": [
       "[0.31499436497688293, 0.8928571343421936, 0.8207070827484131]"
      ]
     },
     "execution_count": 31,
     "metadata": {},
     "output_type": "execute_result"
    }
   ],
   "source": [
    "model.evaluate(test_generator)"
   ]
  },
  {
   "cell_type": "code",
   "execution_count": null,
   "id": "djXLgQJuA6sc",
   "metadata": {
    "id": "djXLgQJuA6sc"
   },
   "outputs": [],
   "source": [
    "model.evaluate(train_generator)"
   ]
  },
  {
   "cell_type": "markdown",
   "id": "ygtJTqTARF4p",
   "metadata": {
    "id": "ygtJTqTARF4p"
   },
   "source": [
    "Regularization for isCancerous"
   ]
  },
  {
   "cell_type": "code",
   "execution_count": 52,
   "id": "CuNrQRfiQ5Q3",
   "metadata": {
    "executionInfo": {
     "elapsed": 285,
     "status": "ok",
     "timestamp": 1683598783894,
     "user": {
      "displayName": "Hie",
      "userId": "15016016655707500633"
     },
     "user_tz": -600
    },
    "id": "CuNrQRfiQ5Q3"
   },
   "outputs": [],
   "source": [
    "import tensorflow as tf\n",
    "# 27 x 27 with 3 channels\n",
    "INPUT_DIM = (27,27,3)\n",
    "# Number of nodes in the hidden layer\n",
    "HIDDEN_LAYER_DIM = 256\n",
    "# Number of class to be predicted\n",
    "OUTPUT_CLASSES = 2\n",
    "\n",
    "model_l1 = tf.keras.Sequential([\n",
    "    # Layer 1: Transform the image into correct format\n",
    "    tf.keras.layers.Flatten(input_shape=INPUT_DIM),\n",
    "    # Layer 2: 256 nodes\n",
    "    tf.keras.layers.Dense(HIDDEN_LAYER_DIM, \n",
    "                          activation='sigmoid'),\n",
    "    # Layer 3: Work together with Layer 2 to produce 2 outputs\n",
    "    # To determine the class of the image\n",
    "    tf.keras.layers.Dense(OUTPUT_CLASSES)\n",
    "])"
   ]
  },
  {
   "cell_type": "code",
   "execution_count": 53,
   "id": "CubRv6WEQ5c9",
   "metadata": {
    "executionInfo": {
     "elapsed": 485,
     "status": "ok",
     "timestamp": 1683598786429,
     "user": {
      "displayName": "Hie",
      "userId": "15016016655707500633"
     },
     "user_tz": -600
    },
    "id": "CubRv6WEQ5c9"
   },
   "outputs": [],
   "source": [
    "import tensorflow_addons as tfa\n",
    "\n",
    "model_l1.compile(optimizer='SGD',\n",
    "              loss=tf.keras.losses.BinaryCrossentropy(from_logits=True),\n",
    "              metrics=[tf.keras.metrics.Precision(),\n",
    "                       tf.keras.metrics.Recall(),\n",
    "                       tfa.metrics.F1Score(num_classes=OUTPUT_CLASSES)])"
   ]
  },
  {
   "cell_type": "code",
   "execution_count": 54,
   "id": "bJ5ZHpCYQ5mG",
   "metadata": {
    "colab": {
     "base_uri": "https://localhost:8080/"
    },
    "executionInfo": {
     "elapsed": 819531,
     "status": "ok",
     "timestamp": 1683599608917,
     "user": {
      "displayName": "Hie",
      "userId": "15016016655707500633"
     },
     "user_tz": -600
    },
    "id": "bJ5ZHpCYQ5mG",
    "outputId": "3fe7888f-6f27-4170-afa5-17f886ca9059"
   },
   "outputs": [
    {
     "name": "stderr",
     "output_type": "stream",
     "text": [
      "<ipython-input-54-f03ad81d478f>:1: UserWarning: `Model.fit_generator` is deprecated and will be removed in a future version. Please use `Model.fit`, which supports generators.\n",
      "  history_l1 = model_l1.fit_generator(train_generator, validation_data = validation_generator, epochs=150, verbose=0)\n"
     ]
    }
   ],
   "source": [
    "history_l1 = model_l1.fit_generator(train_generator, validation_data = validation_generator, epochs=150, verbose=0)"
   ]
  },
  {
   "cell_type": "code",
   "execution_count": 60,
   "id": "_LMLy2gyXbrg",
   "metadata": {
    "colab": {
     "base_uri": "https://localhost:8080/"
    },
    "executionInfo": {
     "elapsed": 4,
     "status": "ok",
     "timestamp": 1683599798635,
     "user": {
      "displayName": "Hie",
      "userId": "15016016655707500633"
     },
     "user_tz": -600
    },
    "id": "_LMLy2gyXbrg",
    "outputId": "27ddd82e-881c-4db1-c631-51e31b4d4f10"
   },
   "outputs": [
    {
     "data": {
      "text/plain": [
       "dict_keys(['loss', 'precision_5', 'recall_5', 'f1_score', 'val_loss', 'val_precision_5', 'val_recall_5', 'val_f1_score'])"
      ]
     },
     "execution_count": 60,
     "metadata": {},
     "output_type": "execute_result"
    }
   ],
   "source": [
    "history_l1.history.keys()"
   ]
  },
  {
   "cell_type": "code",
   "execution_count": 61,
   "id": "8TA4cpidRq8b",
   "metadata": {
    "colab": {
     "base_uri": "https://localhost:8080/",
     "height": 465
    },
    "executionInfo": {
     "elapsed": 745,
     "status": "ok",
     "timestamp": 1683599812687,
     "user": {
      "displayName": "Hie",
      "userId": "15016016655707500633"
     },
     "user_tz": -600
    },
    "id": "8TA4cpidRq8b",
    "outputId": "abec6400-bdb4-441b-ef97-11c89838db23"
   },
   "outputs": [
    {
     "data": {
      "image/png": "[encoded data removed]",
      "text/plain": [
       "<Figure size 1000x500 with 2 Axes>"
      ]
     },
     "metadata": {},
     "output_type": "display_data"
    }
   ],
   "source": [
    "plt.figure(figsize=(10,5))\n",
    "plt.subplot(1,2,1)\n",
    "plt.plot(history_l1.history['loss'], 'r--')\n",
    "plt.plot(history_l1.history['val_loss'], 'b--')\n",
    "plt.xlabel(\"epochs\")\n",
    "plt.ylabel(\"Loss\")\n",
    "plt.legend(['train', 'val'], loc='upper left')\n",
    "\n",
    "plt.subplot(1,2,2)\n",
    "plt.plot(history_l1.history['precision_5'], 'r--')\n",
    "plt.plot(history_l1.history['val_precision_5'], 'b--')\n",
    "plt.xlabel(\"epochs\")\n",
    "plt.ylabel(\"Accuracy\")\n",
    "plt.legend(['train', 'val'], loc='upper left')\n",
    "plt.show()\n",
    "\n",
    "plt.show()"
   ]
  },
  {
   "cell_type": "code",
   "execution_count": 62,
   "id": "HKttJ_RFXUwj",
   "metadata": {
    "colab": {
     "base_uri": "https://localhost:8080/"
    },
    "executionInfo": {
     "elapsed": 319,
     "status": "ok",
     "timestamp": 1683599852796,
     "user": {
      "displayName": "Hie",
      "userId": "15016016655707500633"
     },
     "user_tz": -600
    },
    "id": "HKttJ_RFXUwj",
    "outputId": "d72d1b4c-d4db-41ce-e118-97098b0e9869"
   },
   "outputs": [
    {
     "name": "stdout",
     "output_type": "stream",
     "text": [
      "Found 1980 validated image filenames belonging to 2 classes.\n"
     ]
    }
   ],
   "source": [
    "test_datagen = ImageDataGenerator(rescale=1./255, data_format='channels_last')\n",
    "\n",
    "test_generator = test_datagen.flow_from_dataframe(\n",
    "        dataframe=test_df,\n",
    "        directory='patch_images/',\n",
    "        x_col=\"ImageName\",\n",
    "        y_col=\"isCancerous\",\n",
    "        target_size=(27, 27),\n",
    "        batch_size=batch_size,\n",
    "        class_mode='categorical')"
   ]
  },
  {
   "cell_type": "code",
   "execution_count": 65,
   "id": "Sb0IVrgfXwBN",
   "metadata": {
    "colab": {
     "base_uri": "https://localhost:8080/"
    },
    "executionInfo": {
     "elapsed": 1636,
     "status": "ok",
     "timestamp": 1683599908611,
     "user": {
      "displayName": "Hie",
      "userId": "15016016655707500633"
     },
     "user_tz": -600
    },
    "id": "Sb0IVrgfXwBN",
    "outputId": "ae646dc8-58bb-416b-d877-35ca38f44460"
   },
   "outputs": [
    {
     "name": "stdout",
     "output_type": "stream",
     "text": [
      "62/62 [==============================] - 1s 19ms/step - loss: 0.3130 - precision_5: 0.8976 - recall_5: 0.8192 - f1_score: 0.8651\n"
     ]
    },
    {
     "data": {
      "text/plain": [
       "[0.31297072768211365,\n",
       " 0.8976203799247742,\n",
       " 0.8191919326782227,\n",
       " array([0.8913319, 0.8388715], dtype=float32)]"
      ]
     },
     "execution_count": 65,
     "metadata": {},
     "output_type": "execute_result"
    }
   ],
   "source": [
    "model_l1.evaluate(test_generator)"
   ]
  },
  {
   "cell_type": "code",
   "execution_count": 66,
   "id": "xplIQ3ynX39O",
   "metadata": {
    "colab": {
     "base_uri": "https://localhost:8080/"
    },
    "executionInfo": {
     "elapsed": 2577,
     "status": "ok",
     "timestamp": 1683599911185,
     "user": {
      "displayName": "Hie",
      "userId": "15016016655707500633"
     },
     "user_tz": -600
    },
    "id": "xplIQ3ynX39O",
    "outputId": "898d7901-8502-470b-ff9a-df67111f5c3a",
    "scrolled": true
   },
   "outputs": [
    {
     "name": "stdout",
     "output_type": "stream",
     "text": [
      "186/186 [==============================] - 3s 16ms/step - loss: 0.2734 - precision_5: 0.9167 - recall_5: 0.8356 - f1_score: 0.8803\n"
     ]
    },
    {
     "data": {
      "text/plain": [
       "[0.273378849029541,\n",
       " 0.9166666865348816,\n",
       " 0.8356072306632996,\n",
       " array([0.90252906, 0.85814726], dtype=float32)]"
      ]
     },
     "execution_count": 66,
     "metadata": {},
     "output_type": "execute_result"
    }
   ],
   "source": [
    "model_l1.evaluate(train_generator)"
   ]
  },
  {
   "cell_type": "markdown",
   "id": "628ec05a",
   "metadata": {},
   "source": [
    "Using 3 Layers instead"
   ]
  },
  {
   "cell_type": "code",
   "execution_count": 58,
   "id": "l7NZ9JADX5Oz",
   "metadata": {
    "executionInfo": {
     "elapsed": 574,
     "status": "ok",
     "timestamp": 1683600837122,
     "user": {
      "displayName": "Hie",
      "userId": "15016016655707500633"
     },
     "user_tz": -600
    },
    "id": "l7NZ9JADX5Oz"
   },
   "outputs": [],
   "source": [
    "import tensorflow as tf\n",
    "# 27 x 27 with 3 channels\n",
    "INPUT_DIM = (27,27,3)\n",
    "# Number of nodes in the hidden layer\n",
    "HIDDEN_LAYER_DIM = 256\n",
    "# Number of class to be predicted\n",
    "OUTPUT_CLASSES = 2\n",
    "\n",
    "model_3l = tf.keras.Sequential([\n",
    "    # Layer 1: Transform the image into correct format\n",
    "    tf.keras.layers.Flatten(input_shape=INPUT_DIM),\n",
    "\n",
    "    tf.keras.layers.Dense(HIDDEN_LAYER_DIM*2, \n",
    "                          activation='relu'),\n",
    "    # Layer 2: 256 nodes\n",
    "    tf.keras.layers.Dense(HIDDEN_LAYER_DIM, \n",
    "                          activation='sigmoid'),\n",
    "    # Layer 3: Work together with Layer 2 to produce 2 outputs\n",
    "    # To determine the class of the image\n",
    "    tf.keras.layers.Dense(OUTPUT_CLASSES)\n",
    "])"
   ]
  },
  {
   "cell_type": "code",
   "execution_count": 59,
   "id": "0pi7qWkDY_9D",
   "metadata": {
    "executionInfo": {
     "elapsed": 3,
     "status": "ok",
     "timestamp": 1683600837123,
     "user": {
      "displayName": "Hie",
      "userId": "15016016655707500633"
     },
     "user_tz": -600
    },
    "id": "0pi7qWkDY_9D"
   },
   "outputs": [],
   "source": [
    "import tensorflow_addons as tfa\n",
    "\n",
    "model_3l.compile(optimizer='SGD',\n",
    "              loss=tf.keras.losses.BinaryCrossentropy(from_logits=True),\n",
    "              metrics=[tf.keras.metrics.Precision(),\n",
    "                       tf.keras.metrics.Recall(),\n",
    "                       tfa.metrics.F1Score(num_classes=OUTPUT_CLASSES)])"
   ]
  },
  {
   "cell_type": "code",
   "execution_count": 60,
   "id": "FL5cOAkVZP4-",
   "metadata": {
    "colab": {
     "base_uri": "https://localhost:8080/"
    },
    "executionInfo": {
     "elapsed": 661781,
     "status": "ok",
     "timestamp": 1683601502905,
     "user": {
      "displayName": "Hie",
      "userId": "15016016655707500633"
     },
     "user_tz": -600
    },
    "id": "FL5cOAkVZP4-",
    "outputId": "f8277749-801d-4308-d24f-d8034d22b9db"
   },
   "outputs": [
    {
     "name": "stderr",
     "output_type": "stream",
     "text": [
      "<ipython-input-60-faf661e81d49>:1: UserWarning: `Model.fit_generator` is deprecated and will be removed in a future version. Please use `Model.fit`, which supports generators.\n",
      "  history_3l = model_3l.fit_generator(train_generator, validation_data = validation_generator, epochs=150, verbose=0)\n"
     ]
    }
   ],
   "source": [
    "history_3l = model_3l.fit_generator(train_generator, validation_data = validation_generator, epochs=150, verbose=0)"
   ]
  },
  {
   "cell_type": "code",
   "execution_count": 61,
   "id": "edOZWPyjem6Q",
   "metadata": {
    "colab": {
     "base_uri": "https://localhost:8080/"
    },
    "executionInfo": {
     "elapsed": 533,
     "status": "ok",
     "timestamp": 1683601661350,
     "user": {
      "displayName": "Hie",
      "userId": "15016016655707500633"
     },
     "user_tz": -600
    },
    "id": "edOZWPyjem6Q",
    "outputId": "5aefdb00-764b-414f-d863-50bc644bd5ae"
   },
   "outputs": [
    {
     "data": {
      "text/plain": [
       "dict_keys(['loss', 'precision_2', 'recall_2', 'f1_score', 'val_loss', 'val_precision_2', 'val_recall_2', 'val_f1_score'])"
      ]
     },
     "execution_count": 61,
     "metadata": {},
     "output_type": "execute_result"
    }
   ],
   "source": [
    "history_3l.history.keys()"
   ]
  },
  {
   "cell_type": "code",
   "execution_count": 63,
   "id": "3PtUUyH_ZVQr",
   "metadata": {
    "colab": {
     "base_uri": "https://localhost:8080/",
     "height": 470
    },
    "executionInfo": {
     "elapsed": 2154,
     "status": "ok",
     "timestamp": 1683601688253,
     "user": {
      "displayName": "Hie",
      "userId": "15016016655707500633"
     },
     "user_tz": -600
    },
    "id": "3PtUUyH_ZVQr",
    "outputId": "5a8f50f6-d57e-4ce9-bf21-d04d4f1a5dba"
   },
   "outputs": [
    {
     "data": {
      "image/png": "[encoded data removed]",
      "text/plain": [
       "<Figure size 1000x500 with 2 Axes>"
      ]
     },
     "metadata": {},
     "output_type": "display_data"
    }
   ],
   "source": [
    "plt.figure(figsize=(10,5))\n",
    "plt.subplot(1,2,1)\n",
    "plt.plot(history_3l.history['loss'], 'r--')\n",
    "plt.plot(history_3l.history['val_loss'], 'b--')\n",
    "plt.xlabel(\"epochs\")\n",
    "plt.ylabel(\"Loss\")\n",
    "plt.legend(['train', 'val'], loc='upper left')\n",
    "\n",
    "plt.subplot(1,2,2)\n",
    "plt.plot(history_3l.history['precision_2'], 'r--')\n",
    "plt.plot(history_3l.history['val_precision_2'], 'b--')\n",
    "plt.xlabel(\"epochs\")\n",
    "plt.ylabel(\"Precision\")\n",
    "plt.legend(['train', 'val'], loc='upper left')\n",
    "plt.show()\n",
    "\n",
    "plt.show()"
   ]
  },
  {
   "cell_type": "code",
   "execution_count": 65,
   "id": "M3foe6z9esvL",
   "metadata": {
    "colab": {
     "base_uri": "https://localhost:8080/"
    },
    "executionInfo": {
     "elapsed": 2472,
     "status": "ok",
     "timestamp": 1683601725498,
     "user": {
      "displayName": "Hie",
      "userId": "15016016655707500633"
     },
     "user_tz": -600
    },
    "id": "M3foe6z9esvL",
    "outputId": "a1c9cf6a-3f74-4bdd-a8eb-fe9eca2c5f5f"
   },
   "outputs": [
    {
     "name": "stdout",
     "output_type": "stream",
     "text": [
      "62/62 [==============================] - 2s 28ms/step - loss: 0.3199 - precision_2: 0.8936 - recall_2: 0.8141 - f1_score: 0.8567\n"
     ]
    },
    {
     "data": {
      "text/plain": [
       "[0.3198942542076111,\n",
       " 0.893569827079773,\n",
       " 0.8141413927078247,\n",
       " array([0.8769912, 0.8364706], dtype=float32)]"
      ]
     },
     "execution_count": 65,
     "metadata": {},
     "output_type": "execute_result"
    }
   ],
   "source": [
    "model_3l.evaluate(test_generator)"
   ]
  },
  {
   "cell_type": "code",
   "execution_count": 66,
   "id": "CxA-kZ3Je2n1",
   "metadata": {
    "colab": {
     "base_uri": "https://localhost:8080/"
    },
    "executionInfo": {
     "elapsed": 4192,
     "status": "ok",
     "timestamp": 1683601738732,
     "user": {
      "displayName": "Hie",
      "userId": "15016016655707500633"
     },
     "user_tz": -600
    },
    "id": "CxA-kZ3Je2n1",
    "outputId": "eedcb231-d22b-49f6-b616-4555bffc1779"
   },
   "outputs": [
    {
     "name": "stdout",
     "output_type": "stream",
     "text": [
      "186/186 [==============================] - 4s 20ms/step - loss: 0.2794 - precision_2: 0.9119 - recall_2: 0.8329 - f1_score: 0.8791\n"
     ]
    },
    {
     "data": {
      "text/plain": [
       "[0.2794375419616699,\n",
       " 0.9118568897247314,\n",
       " 0.832912266254425,\n",
       " array([0.8957655 , 0.86249995], dtype=float32)]"
      ]
     },
     "execution_count": 66,
     "metadata": {},
     "output_type": "execute_result"
    }
   ],
   "source": [
    "model_3l.evaluate(train_generator)"
   ]
  },
  {
   "cell_type": "markdown",
   "id": "4685b512",
   "metadata": {
    "id": "ZFLq9Q6He7SL"
   },
   "source": [
    "Using More Neurons in a Layer"
   ]
  },
  {
   "cell_type": "code",
   "execution_count": null,
   "id": "0461957b",
   "metadata": {},
   "outputs": [],
   "source": [
    "import tensorflow as tf\n",
    "# 27 x 27 with 3 channels\n",
    "INPUT_DIM = (27,27,3)\n",
    "# Number of nodes in the hidden layer\n",
    "HIDDEN_LAYER_DIM = 27*27*3\n",
    "# Number of class to be predicted\n",
    "OUTPUT_CLASSES = 2\n",
    "\n",
    "model_3ln = tf.keras.Sequential([\n",
    "    # Layer 1: Transform the image into correct format\n",
    "    tf.keras.layers.Flatten(input_shape=INPUT_DIM),\n",
    "\n",
    "    tf.keras.layers.Dense(HIDDEN_LAYER_DIM, \n",
    "                          activation='relu'),\n",
    "    # Layer 2: 256 nodes\n",
    "    tf.keras.layers.Dense(int(HIDDEN_LAYER_DIM/2), \n",
    "                          activation='sigmoid'),\n",
    "    # Layer 3: Work together with Layer 2 to produce 2 outputs\n",
    "    # To determine the class of the image\n",
    "    tf.keras.layers.Dense(OUTPUT_CLASSES)\n",
    "])"
   ]
  },
  {
   "cell_type": "code",
   "execution_count": null,
   "id": "e89695d4",
   "metadata": {},
   "outputs": [],
   "source": [
    "import tensorflow_addons as tfa\n",
    "\n",
    "model_3ln.compile(optimizer='SGD',\n",
    "              loss=tf.keras.losses.BinaryCrossentropy(from_logits=True),\n",
    "              metrics=[tf.keras.metrics.Precision(),\n",
    "                       tf.keras.metrics.Recall(),\n",
    "                       tfa.metrics.F1Score(num_classes=OUTPUT_CLASSES)])"
   ]
  },
  {
   "cell_type": "code",
   "execution_count": null,
   "id": "f484e670",
   "metadata": {},
   "outputs": [],
   "source": [
    "history_3ln = model_3l.fit_generator(train_generator, validation_data = validation_generator, epochs=150, verbose=0)"
   ]
  },
  {
   "cell_type": "code",
   "execution_count": null,
   "id": "a5b31387",
   "metadata": {},
   "outputs": [],
   "source": [
    "history_3ln.history.keys()"
   ]
  },
  {
   "cell_type": "code",
   "execution_count": null,
   "id": "694f3d6b",
   "metadata": {},
   "outputs": [],
   "source": [
    "plt.figure(figsize=(10,5))\n",
    "plt.subplot(1,2,1)\n",
    "plt.plot(history_3l.history['loss'], 'r--')\n",
    "plt.plot(history_3l.history['val_loss'], 'b--')\n",
    "plt.xlabel(\"epochs\")\n",
    "plt.ylabel(\"Loss\")\n",
    "plt.legend(['train', 'val'], loc='upper left')\n",
    "\n",
    "plt.subplot(1,2,2)\n",
    "plt.plot(history_3l.history['precision_2'], 'r--')\n",
    "plt.plot(history_3l.history['val_precision_2'], 'b--')\n",
    "plt.xlabel(\"epochs\")\n",
    "plt.ylabel(\"Precision\")\n",
    "plt.legend(['train', 'val'], loc='upper left')\n",
    "plt.show()\n",
    "\n",
    "plt.show()"
   ]
  },
  {
   "cell_type": "code",
   "execution_count": null,
   "id": "b7a0707a",
   "metadata": {},
   "outputs": [],
   "source": [
    "model_3ln.evaluate(test_generator)"
   ]
  },
  {
   "cell_type": "code",
   "execution_count": null,
   "id": "af992699",
   "metadata": {},
   "outputs": [],
   "source": [
    "model_3ln.evaluate(train_generator)"
   ]
  },
  {
   "cell_type": "code",
   "execution_count": null,
   "id": "5f17df52",
   "metadata": {},
   "outputs": [],
   "source": []
  },
  {
   "cell_type": "code",
   "execution_count": null,
   "id": "033f940b",
   "metadata": {},
   "outputs": [],
   "source": []
  },
  {
   "cell_type": "code",
   "execution_count": null,
   "id": "a25ecd0b",
   "metadata": {},
   "outputs": [],
   "source": []
  }
 ],
 "metadata": {
  "accelerator": "GPU",
  "colab": {
   "gpuType": "T4",
   "provenance": [
    {
     "file_id": "1hIu2-CZ1omrrvhRJS_YKYvFLMm8zWgG1",
     "timestamp": 1683597109460
    }
   ]
  },
  "gpuClass": "standard",
  "kernelspec": {
   "display_name": "tf",
   "language": "python",
   "name": "tf"
  },
  "language_info": {
   "codemirror_mode": {
    "name": "ipython",
    "version": 3
   },
   "file_extension": ".py",
   "mimetype": "text/x-python",
   "name": "python",
   "nbconvert_exporter": "python",
   "pygments_lexer": "ipython3",
   "version": "3.10.11"
  }
 },
 "nbformat": 4,
 "nbformat_minor": 5
}
